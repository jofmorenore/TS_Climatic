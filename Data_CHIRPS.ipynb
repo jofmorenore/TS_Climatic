{
  "nbformat": 4,
  "nbformat_minor": 0,
  "metadata": {
    "colab": {
      "provenance": [],
      "collapsed_sections": [
        "ih8b16QF-7RC",
        "U_qwr9rk739i",
        "BIPdEMst77Y5",
        "SUzqozoO8Atr",
        "1jTUToOP8E37",
        "zfkT7Dft8MWy",
        "9UwiAKkSkHMC",
        "W8JT-VkIOf_1"
      ],
      "toc_visible": true,
      "authorship_tag": "ABX9TyPzplEzoCF+kNoFxf4nCP7S",
      "include_colab_link": true
    },
    "kernelspec": {
      "name": "python3",
      "display_name": "Python 3"
    },
    "language_info": {
      "name": "python"
    }
  },
  "cells": [
    {
      "cell_type": "markdown",
      "metadata": {
        "id": "view-in-github",
        "colab_type": "text"
      },
      "source": [
        "<a href=\"https://colab.research.google.com/github/jofmorenore/TS_Climatic/blob/main/Data_CHIRPS.ipynb\" target=\"_parent\"><img src=\"https://colab.research.google.com/assets/colab-badge.svg\" alt=\"Open In Colab\"/></a>"
      ]
    },
    {
      "cell_type": "markdown",
      "source": [
        "# Extracción de datos"
      ],
      "metadata": {
        "id": "ih8b16QF-7RC"
      }
    },
    {
      "cell_type": "code",
      "execution_count": 1,
      "metadata": {
        "colab": {
          "base_uri": "https://localhost:8080/"
        },
        "id": "eYh_KTZBNrpk",
        "outputId": "bafa99df-acc7-4db0-c70b-74247840b5b3"
      },
      "outputs": [
        {
          "output_type": "stream",
          "name": "stdout",
          "text": [
            "Looking in indexes: https://pypi.org/simple, https://us-python.pkg.dev/colab-wheels/public/simple/\n",
            "Requirement already satisfied: rpy2==3.5.1 in /usr/local/lib/python3.9/dist-packages (3.5.1)\n",
            "Requirement already satisfied: cffi>=1.10.0 in /usr/local/lib/python3.9/dist-packages (from rpy2==3.5.1) (1.15.1)\n",
            "Requirement already satisfied: tzlocal in /usr/local/lib/python3.9/dist-packages (from rpy2==3.5.1) (4.3)\n",
            "Requirement already satisfied: jinja2 in /usr/local/lib/python3.9/dist-packages (from rpy2==3.5.1) (3.1.2)\n",
            "Requirement already satisfied: pytz in /usr/local/lib/python3.9/dist-packages (from rpy2==3.5.1) (2022.7.1)\n",
            "Requirement already satisfied: pycparser in /usr/local/lib/python3.9/dist-packages (from cffi>=1.10.0->rpy2==3.5.1) (2.21)\n",
            "Requirement already satisfied: MarkupSafe>=2.0 in /usr/local/lib/python3.9/dist-packages (from jinja2->rpy2==3.5.1) (2.1.2)\n",
            "Requirement already satisfied: pytz-deprecation-shim in /usr/local/lib/python3.9/dist-packages (from tzlocal->rpy2==3.5.1) (0.1.0.post0)\n",
            "Requirement already satisfied: tzdata in /usr/local/lib/python3.9/dist-packages (from pytz-deprecation-shim->tzlocal->rpy2==3.5.1) (2022.7)\n"
          ]
        }
      ],
      "source": [
        "# https://stackoverflow.com/questions/74283327/conversion-py2rpy-not-defined-for-objects-of-type-class-str\n",
        "!pip install rpy2==3.5.1"
      ]
    },
    {
      "cell_type": "code",
      "source": [
        "#https://stackoverflow.com/questions/67135876/how-many-cpu-cores-does-google-colab-assigns-when-i-keep-n-jobs-8-is-there-an\n",
        "import multiprocessing\n",
        "\n",
        "multiprocessing.cpu_count() # Count the number of cores in a computer"
      ],
      "metadata": {
        "colab": {
          "base_uri": "https://localhost:8080/"
        },
        "id": "MPrPY1Rez3xj",
        "outputId": "871fdf22-69f0-4da7-ec15-37e0402b528f"
      },
      "execution_count": 2,
      "outputs": [
        {
          "output_type": "execute_result",
          "data": {
            "text/plain": [
              "2"
            ]
          },
          "metadata": {},
          "execution_count": 2
        }
      ]
    },
    {
      "cell_type": "code",
      "source": [
        "from google.colab import drive\n",
        "drive.mount('/content/drive')"
      ],
      "metadata": {
        "colab": {
          "base_uri": "https://localhost:8080/"
        },
        "id": "0u6XsxaA0p49",
        "outputId": "3cde000a-aadd-4568-d264-0d00497fa78e"
      },
      "execution_count": 3,
      "outputs": [
        {
          "output_type": "stream",
          "name": "stdout",
          "text": [
            "Drive already mounted at /content/drive; to attempt to forcibly remount, call drive.mount(\"/content/drive\", force_remount=True).\n"
          ]
        }
      ]
    },
    {
      "cell_type": "code",
      "source": [
        "%load_ext rpy2.ipython"
      ],
      "metadata": {
        "id": "zduKWcc7ONNm"
      },
      "execution_count": 4,
      "outputs": []
    },
    {
      "cell_type": "code",
      "source": [
        "%%R\n",
        "getwd()"
      ],
      "metadata": {
        "colab": {
          "base_uri": "https://localhost:8080/"
        },
        "id": "2oIRKmPTOPjD",
        "outputId": "6564dbb8-bbe6-47ad-a8b1-79278da32795"
      },
      "execution_count": 5,
      "outputs": [
        {
          "output_type": "stream",
          "name": "stdout",
          "text": [
            "[1] \"/content\"\n"
          ]
        }
      ]
    },
    {
      "cell_type": "code",
      "source": [
        "%%R\n",
        "sessionInfo()"
      ],
      "metadata": {
        "colab": {
          "base_uri": "https://localhost:8080/"
        },
        "id": "veUN0esmORaA",
        "outputId": "dfe02fca-3577-49c1-e0ac-836a23981a5c"
      },
      "execution_count": 6,
      "outputs": [
        {
          "output_type": "stream",
          "name": "stdout",
          "text": [
            "R version 4.2.3 (2023-03-15)\n",
            "Platform: x86_64-pc-linux-gnu (64-bit)\n",
            "Running under: Ubuntu 20.04.5 LTS\n",
            "\n",
            "Matrix products: default\n",
            "BLAS:   /usr/lib/x86_64-linux-gnu/openblas-pthread/libblas.so.3\n",
            "LAPACK: /usr/lib/x86_64-linux-gnu/openblas-pthread/liblapack.so.3\n",
            "\n",
            "locale:\n",
            " [1] LC_CTYPE=en_US.UTF-8       LC_NUMERIC=C              \n",
            " [3] LC_TIME=en_US.UTF-8        LC_COLLATE=en_US.UTF-8    \n",
            " [5] LC_MONETARY=en_US.UTF-8    LC_MESSAGES=en_US.UTF-8   \n",
            " [7] LC_PAPER=en_US.UTF-8       LC_NAME=C                 \n",
            " [9] LC_ADDRESS=C               LC_TELEPHONE=C            \n",
            "[11] LC_MEASUREMENT=en_US.UTF-8 LC_IDENTIFICATION=C       \n",
            "\n",
            "attached base packages:\n",
            "[1] tools     stats     graphics  grDevices utils     datasets  methods  \n",
            "[8] base     \n",
            "\n",
            "loaded via a namespace (and not attached):\n",
            "[1] compiler_4.2.3\n"
          ]
        }
      ]
    },
    {
      "cell_type": "markdown",
      "source": [
        "# Descarga información automatizada raster de CHIRPS haciendo uso de R - SIG"
      ],
      "metadata": {
        "id": "LM4-i1LLGwKt"
      }
    },
    {
      "cell_type": "markdown",
      "source": [
        "## Librerías"
      ],
      "metadata": {
        "id": "U_qwr9rk739i"
      }
    },
    {
      "cell_type": "code",
      "source": [
        "%%R\n",
        "if(\"doSNOW\" %in% row.names(installed.packages())==FALSE){suppressMessages(install.packages(\"doSNOW\"))}\n",
        "if(\"foreach\" %in% row.names(installed.packages())==FALSE){suppressMessages(install.packages(\"foreach\"))}\n",
        "if(\"mapsf\" %in% row.names(installed.packages())==FALSE){suppressMessages(install.packages(\"mapsf\"))}\n",
        "if(\"raster\" %in% row.names(installed.packages())==FALSE){suppressMessages(install.packages(\"raster\"))}\n",
        "if(\"rgeos\" %in% row.names(installed.packages())==FALSE){suppressMessages(install.packages(\"rgeos\"))}\n",
        "if(\"rgdal\" %in% row.names(installed.packages())==FALSE){suppressMessages(install.packages(\"rgdal\"))}\n",
        "if(\"sf\" %in% row.names(installed.packages())==FALSE){suppressMessages(install.packages(\"sf\"))}\n",
        "if(\"R.utils\" %in% row.names(installed.packages())==FALSE){suppressMessages(install.packages(\"R.utils\"))}"
      ],
      "metadata": {
        "id": "OcRNlDofyKBI"
      },
      "execution_count": null,
      "outputs": []
    },
    {
      "cell_type": "code",
      "source": [
        "%%R\n",
        "library(doSNOW)\n",
        "library(dplyr)\n",
        "library(foreach)\n",
        "library(lubridate)\n",
        "library(mapsf)\n",
        "library(purrr)\n",
        "library(raster)\n",
        "library(rgdal)\n",
        "library(rgeos)\n",
        "library(R.utils)\n",
        "library(sf)\n",
        "library(stringr)"
      ],
      "metadata": {
        "id": "vGGuoCn2x62P"
      },
      "execution_count": null,
      "outputs": []
    },
    {
      "cell_type": "markdown",
      "source": [
        "## Descarga del repositorio"
      ],
      "metadata": {
        "id": "BIPdEMst77Y5"
      }
    },
    {
      "cell_type": "code",
      "source": [
        "%%R\n",
        "# Functions to use --------------------------------------------------------\n",
        "download_chirps <- function(year){\n",
        "  \n",
        "  print(year)\n",
        "  dates <- seq(as.Date(paste0(year, \"-01-01\")), as.Date(paste0(year, \"-12-31\")), by=\"months\")\n",
        "  #dates <- gsub('-', '.', as.character(dates))\n",
        "  dates <- paste(year(dates), ifelse(month(dates)<10, paste0(0,month(dates)), month(dates)), sep ='.')\n",
        "  paths <- paste0(pth, '/chirps-v2.0.', dates, '.tif.gz')\n",
        "  \n",
        "  lapply(1:length(paths), function(k){\n",
        "    download.file(url = paths[k],\n",
        "                  destfile = paste0('./chirps/', basename(paths[k])),\n",
        "                  mode = 'wb')\n",
        "  })\n",
        "}"
      ],
      "metadata": {
        "id": "rgQBRYvnHEMx"
      },
      "execution_count": null,
      "outputs": []
    },
    {
      "cell_type": "code",
      "source": [
        "%%R\n",
        "# Load data ---------------------------------------------------------------\n",
        "#pth <- 'ftp://ftp.chg.ucsb.edu/pub/org/chg/products/CHIRPS-2.0/global_daily/tifs/p05/'\n",
        "#pth <- 'https://data.chc.ucsb.edu/products/CHIRPS-2.0/global_daily/tifs/p05/'\n",
        "pth <- 'https://data.chc.ucsb.edu/products/CHIRPS-2.0/global_monthly/tifs/'\n",
        "dir.create('./chirps/', recursive = TRUE)"
      ],
      "metadata": {
        "id": "gZkLHLHvHIiq"
      },
      "execution_count": null,
      "outputs": []
    },
    {
      "cell_type": "code",
      "source": [
        "%%R\n",
        "yrs <- 1981:2022\n",
        "map(.x = yrs, .f = download_chirps)"
      ],
      "metadata": {
        "id": "W8EcfWWlhrp0"
      },
      "execution_count": null,
      "outputs": []
    },
    {
      "cell_type": "markdown",
      "source": [
        "## Descomprimir los raster"
      ],
      "metadata": {
        "id": "SUzqozoO8Atr"
      }
    },
    {
      "cell_type": "code",
      "source": [
        "%%R\n",
        "# https://stackoverflow.com/questions/65404992/decompress-tif-gz-file-using-r\n",
        "chirps <- list.files('./chirps', full.names = TRUE, pattern = '.tif.gz$') \n",
        "dir.create('./chirps/stack/', recursive = TRUE)\n",
        "lapply(1:length(chirps), function(k){\n",
        "    R.utils::gunzip(filename = chirps[k],\n",
        "                    destname = paste0('./chirps/stack/', basename(gsub('.gz', '',chirps[k]))),\n",
        "                    remove = FALSE)\n",
        "  })"
      ],
      "metadata": {
        "id": "BxBH7Nqnla9q"
      },
      "execution_count": null,
      "outputs": []
    },
    {
      "cell_type": "markdown",
      "source": [
        "## Recortar y enmascarar para Colombia"
      ],
      "metadata": {
        "id": "1jTUToOP8E37"
      }
    },
    {
      "cell_type": "code",
      "source": [
        "%%R\n",
        "# Functions to use --------------------------------------------------------\n",
        "extract_mask <- function(year){\n",
        "  \n",
        "  print(year)\n",
        "  fle <- grep(year, fles, value = TRUE)\n",
        "  \n",
        "  print('To extract by mask')\n",
        "  cl <- makeCluster(2)\n",
        "  registerDoSNOW(cl)\n",
        "  \n",
        "  foreach(i = 1:length(fle), .verbose = TRUE) %dopar% {\n",
        "    print(paste(\"mes\", i))  \n",
        "    #shpf <- shapefile('//dapadfs/workspace_cluster_9/Coffee_Cocoa2/_coffeeColombia/shp/base/MGN_DPTO_POLITICO.shp')\n",
        "    shpf <- shapefile('/content/drive/MyDrive/Curso/MGN_DPTO_POLITICO.shp')\n",
        "    rst <- raster::raster(fle[i])\n",
        "    rst <- raster::crop(rst, shpf)\n",
        "    rst <- raster::mask(rst, shpf)\n",
        "    rst <- rst * 1\n",
        "    out <- '/content/drive/MyDrive/Time_Series_climatic_variebles/chirps/colombia/'\n",
        "    writeRaster(rst, filename = paste0(out, basename(fle[i])), overwrite = TRUE)\n",
        "    \n",
        "  }\n",
        "  \n",
        "  stopCluster(cl)\n",
        "  print(paste0('Done ', year))  \n",
        "  \n",
        "}"
      ],
      "metadata": {
        "id": "sPCgDQ3zudn8"
      },
      "execution_count": null,
      "outputs": []
    },
    {
      "cell_type": "code",
      "source": [
        "%%R\n",
        "# Load data ---------------------------------------------------------------\n",
        "root <- './chirps/stack'\n",
        "fles <- list.files(root, full.names = TRUE, pattern = '.tif$')\n",
        "\n",
        "# Get the years available--------------------------------------------------\n",
        "years <- unique(str_sub(basename(fles), start = 13, end = 16))"
      ],
      "metadata": {
        "id": "WTrnk423ulRf"
      },
      "execution_count": null,
      "outputs": []
    },
    {
      "cell_type": "markdown",
      "source": [
        "## Exportar al Drive"
      ],
      "metadata": {
        "id": "zfkT7Dft8MWy"
      }
    },
    {
      "cell_type": "code",
      "source": [
        "%%R\n",
        "dir.create('/content/drive/MyDrive/Time_Series_climatic_variebles/chirps/colombia/', recursive = TRUE)"
      ],
      "metadata": {
        "id": "9iVCv0tB6-us"
      },
      "execution_count": null,
      "outputs": []
    },
    {
      "cell_type": "code",
      "source": [
        "%%R\n",
        "# To extract by mask for only Colombia ------------------------------------\n",
        "library(raster)\n",
        "for(j in 1:length(years)){\n",
        "  print(years[j])\n",
        "  extract_mask(year = years[j])\n",
        "  print(' Done')\n",
        "}"
      ],
      "metadata": {
        "colab": {
          "base_uri": "https://localhost:8080/"
        },
        "id": "aMt7N3x4uIjQ",
        "outputId": "29ce0936-fe07-4a22-e244-298424b5b0e3"
      },
      "execution_count": null,
      "outputs": [
        {
          "output_type": "stream",
          "name": "stdout",
          "text": [
            "[1] \"1981\"\n",
            "[1] \"1981\"\n",
            "[1] \"To extract by mask\"\n",
            "discovered package(s): \n",
            "automatically exporting the following variables from the local environment:\n",
            "  fle \n",
            "explicitly exporting package(s): \n",
            "numValues: 3, numResults: 1, stopped: FALSE\n",
            "returning status FALSE\n",
            "numValues: 4, numResults: 2, stopped: FALSE\n",
            "returning status FALSE\n",
            "numValues: 5, numResults: 3, stopped: FALSE\n",
            "returning status FALSE\n",
            "numValues: 6, numResults: 4, stopped: FALSE\n",
            "returning status FALSE\n",
            "numValues: 7, numResults: 5, stopped: FALSE\n",
            "returning status FALSE\n",
            "numValues: 8, numResults: 6, stopped: FALSE\n",
            "returning status FALSE\n",
            "numValues: 9, numResults: 7, stopped: FALSE\n",
            "returning status FALSE\n",
            "numValues: 10, numResults: 8, stopped: FALSE\n",
            "returning status FALSE\n",
            "numValues: 11, numResults: 9, stopped: FALSE\n",
            "returning status FALSE\n",
            "numValues: 12, numResults: 10, stopped: FALSE\n",
            "returning status FALSE\n",
            "numValues: 12, numResults: 10, stopped: TRUE\n",
            "numValues: 12, numResults: 11, stopped: TRUE\n",
            "returning status FALSE\n",
            "numValues: 12, numResults: 12, stopped: TRUE\n",
            "calling combine function\n",
            "evaluating call object to combine results:\n",
            "  fun(accum, result.1, result.2, result.3, result.4, result.5, \n",
            "    result.6, result.7, result.8, result.9, result.10, result.11, \n",
            "    result.12)\n",
            "returning status TRUE\n",
            "[1] \"Done 1981\"\n",
            "[1] \" Done\"\n",
            "[1] \"1982\"\n",
            "[1] \"1982\"\n",
            "[1] \"To extract by mask\"\n",
            "discovered package(s): \n",
            "automatically exporting the following variables from the local environment:\n",
            "  fle \n",
            "explicitly exporting package(s): \n",
            "numValues: 3, numResults: 1, stopped: FALSE\n",
            "returning status FALSE\n",
            "numValues: 4, numResults: 2, stopped: FALSE\n",
            "returning status FALSE\n",
            "numValues: 5, numResults: 3, stopped: FALSE\n",
            "returning status FALSE\n",
            "numValues: 6, numResults: 4, stopped: FALSE\n",
            "returning status FALSE\n",
            "numValues: 7, numResults: 5, stopped: FALSE\n",
            "returning status FALSE\n",
            "numValues: 8, numResults: 6, stopped: FALSE\n",
            "returning status FALSE\n",
            "numValues: 9, numResults: 7, stopped: FALSE\n",
            "returning status FALSE\n",
            "numValues: 10, numResults: 8, stopped: FALSE\n",
            "returning status FALSE\n",
            "numValues: 11, numResults: 9, stopped: FALSE\n",
            "returning status FALSE\n",
            "numValues: 12, numResults: 10, stopped: FALSE\n",
            "returning status FALSE\n",
            "numValues: 12, numResults: 10, stopped: TRUE\n",
            "numValues: 12, numResults: 11, stopped: TRUE\n",
            "returning status FALSE\n",
            "numValues: 12, numResults: 12, stopped: TRUE\n",
            "calling combine function\n",
            "evaluating call object to combine results:\n",
            "  fun(accum, result.1, result.2, result.3, result.4, result.5, \n",
            "    result.6, result.7, result.8, result.9, result.10, result.11, \n",
            "    result.12)\n",
            "returning status TRUE\n",
            "[1] \"Done 1982\"\n",
            "[1] \" Done\"\n",
            "[1] \"1983\"\n",
            "[1] \"1983\"\n",
            "[1] \"To extract by mask\"\n",
            "discovered package(s): \n",
            "automatically exporting the following variables from the local environment:\n",
            "  fle \n",
            "explicitly exporting package(s): \n",
            "numValues: 3, numResults: 1, stopped: FALSE\n",
            "returning status FALSE\n",
            "numValues: 4, numResults: 2, stopped: FALSE\n",
            "returning status FALSE\n",
            "numValues: 5, numResults: 3, stopped: FALSE\n",
            "returning status FALSE\n",
            "numValues: 6, numResults: 4, stopped: FALSE\n",
            "returning status FALSE\n",
            "numValues: 7, numResults: 5, stopped: FALSE\n",
            "returning status FALSE\n",
            "numValues: 8, numResults: 6, stopped: FALSE\n",
            "returning status FALSE\n",
            "numValues: 9, numResults: 7, stopped: FALSE\n",
            "returning status FALSE\n",
            "numValues: 10, numResults: 8, stopped: FALSE\n",
            "returning status FALSE\n",
            "numValues: 11, numResults: 9, stopped: FALSE\n",
            "returning status FALSE\n",
            "numValues: 12, numResults: 10, stopped: FALSE\n",
            "returning status FALSE\n",
            "numValues: 12, numResults: 10, stopped: TRUE\n",
            "numValues: 12, numResults: 11, stopped: TRUE\n",
            "returning status FALSE\n",
            "numValues: 12, numResults: 12, stopped: TRUE\n",
            "calling combine function\n",
            "evaluating call object to combine results:\n",
            "  fun(accum, result.1, result.2, result.3, result.4, result.5, \n",
            "    result.6, result.7, result.8, result.9, result.10, result.11, \n",
            "    result.12)\n",
            "returning status TRUE\n",
            "[1] \"Done 1983\"\n",
            "[1] \" Done\"\n",
            "[1] \"1984\"\n",
            "[1] \"1984\"\n",
            "[1] \"To extract by mask\"\n",
            "discovered package(s): \n",
            "automatically exporting the following variables from the local environment:\n",
            "  fle \n",
            "explicitly exporting package(s): \n",
            "numValues: 3, numResults: 1, stopped: FALSE\n",
            "returning status FALSE\n",
            "numValues: 4, numResults: 2, stopped: FALSE\n",
            "returning status FALSE\n",
            "numValues: 5, numResults: 3, stopped: FALSE\n",
            "returning status FALSE\n",
            "numValues: 6, numResults: 4, stopped: FALSE\n",
            "returning status FALSE\n",
            "numValues: 7, numResults: 5, stopped: FALSE\n",
            "returning status FALSE\n",
            "numValues: 8, numResults: 6, stopped: FALSE\n",
            "returning status FALSE\n",
            "numValues: 9, numResults: 7, stopped: FALSE\n",
            "returning status FALSE\n",
            "numValues: 10, numResults: 8, stopped: FALSE\n",
            "returning status FALSE\n",
            "numValues: 11, numResults: 9, stopped: FALSE\n",
            "returning status FALSE\n",
            "numValues: 12, numResults: 10, stopped: FALSE\n",
            "returning status FALSE\n",
            "numValues: 12, numResults: 10, stopped: TRUE\n",
            "numValues: 12, numResults: 11, stopped: TRUE\n",
            "returning status FALSE\n",
            "numValues: 12, numResults: 12, stopped: TRUE\n",
            "calling combine function\n",
            "evaluating call object to combine results:\n",
            "  fun(accum, result.1, result.2, result.3, result.4, result.5, \n",
            "    result.6, result.7, result.8, result.9, result.10, result.11, \n",
            "    result.12)\n",
            "returning status TRUE\n",
            "[1] \"Done 1984\"\n",
            "[1] \" Done\"\n",
            "[1] \"1985\"\n",
            "[1] \"1985\"\n",
            "[1] \"To extract by mask\"\n",
            "discovered package(s): \n",
            "automatically exporting the following variables from the local environment:\n",
            "  fle \n",
            "explicitly exporting package(s): \n",
            "numValues: 3, numResults: 1, stopped: FALSE\n",
            "returning status FALSE\n",
            "numValues: 4, numResults: 2, stopped: FALSE\n",
            "returning status FALSE\n",
            "numValues: 5, numResults: 3, stopped: FALSE\n",
            "returning status FALSE\n",
            "numValues: 6, numResults: 4, stopped: FALSE\n",
            "returning status FALSE\n",
            "numValues: 7, numResults: 5, stopped: FALSE\n",
            "returning status FALSE\n",
            "numValues: 8, numResults: 6, stopped: FALSE\n",
            "returning status FALSE\n",
            "numValues: 9, numResults: 7, stopped: FALSE\n",
            "returning status FALSE\n",
            "numValues: 10, numResults: 8, stopped: FALSE\n",
            "returning status FALSE\n",
            "numValues: 11, numResults: 9, stopped: FALSE\n",
            "returning status FALSE\n",
            "numValues: 12, numResults: 10, stopped: FALSE\n",
            "returning status FALSE\n",
            "numValues: 12, numResults: 10, stopped: TRUE\n",
            "numValues: 12, numResults: 11, stopped: TRUE\n",
            "returning status FALSE\n",
            "numValues: 12, numResults: 12, stopped: TRUE\n",
            "calling combine function\n",
            "evaluating call object to combine results:\n",
            "  fun(accum, result.1, result.2, result.3, result.4, result.5, \n",
            "    result.6, result.7, result.8, result.9, result.10, result.11, \n",
            "    result.12)\n",
            "returning status TRUE\n",
            "[1] \"Done 1985\"\n",
            "[1] \" Done\"\n",
            "[1] \"1986\"\n",
            "[1] \"1986\"\n",
            "[1] \"To extract by mask\"\n",
            "discovered package(s): \n",
            "automatically exporting the following variables from the local environment:\n",
            "  fle \n",
            "explicitly exporting package(s): \n",
            "numValues: 3, numResults: 1, stopped: FALSE\n",
            "returning status FALSE\n",
            "numValues: 4, numResults: 2, stopped: FALSE\n",
            "returning status FALSE\n",
            "numValues: 5, numResults: 3, stopped: FALSE\n",
            "returning status FALSE\n",
            "numValues: 6, numResults: 4, stopped: FALSE\n",
            "returning status FALSE\n",
            "numValues: 7, numResults: 5, stopped: FALSE\n",
            "returning status FALSE\n",
            "numValues: 8, numResults: 6, stopped: FALSE\n",
            "returning status FALSE\n",
            "numValues: 9, numResults: 7, stopped: FALSE\n",
            "returning status FALSE\n",
            "numValues: 10, numResults: 8, stopped: FALSE\n",
            "returning status FALSE\n",
            "numValues: 11, numResults: 9, stopped: FALSE\n",
            "returning status FALSE\n",
            "numValues: 12, numResults: 10, stopped: FALSE\n",
            "returning status FALSE\n",
            "numValues: 12, numResults: 10, stopped: TRUE\n",
            "numValues: 12, numResults: 11, stopped: TRUE\n",
            "returning status FALSE\n",
            "numValues: 12, numResults: 12, stopped: TRUE\n",
            "calling combine function\n",
            "evaluating call object to combine results:\n",
            "  fun(accum, result.1, result.2, result.3, result.4, result.5, \n",
            "    result.6, result.7, result.8, result.9, result.10, result.11, \n",
            "    result.12)\n",
            "returning status TRUE\n",
            "[1] \"Done 1986\"\n",
            "[1] \" Done\"\n",
            "[1] \"1987\"\n",
            "[1] \"1987\"\n",
            "[1] \"To extract by mask\"\n",
            "discovered package(s): \n",
            "automatically exporting the following variables from the local environment:\n",
            "  fle \n",
            "explicitly exporting package(s): \n",
            "numValues: 3, numResults: 1, stopped: FALSE\n",
            "returning status FALSE\n",
            "numValues: 4, numResults: 2, stopped: FALSE\n",
            "returning status FALSE\n",
            "numValues: 5, numResults: 3, stopped: FALSE\n",
            "returning status FALSE\n",
            "numValues: 6, numResults: 4, stopped: FALSE\n",
            "returning status FALSE\n",
            "numValues: 7, numResults: 5, stopped: FALSE\n",
            "returning status FALSE\n",
            "numValues: 8, numResults: 6, stopped: FALSE\n",
            "returning status FALSE\n",
            "numValues: 9, numResults: 7, stopped: FALSE\n",
            "returning status FALSE\n",
            "numValues: 10, numResults: 8, stopped: FALSE\n",
            "returning status FALSE\n",
            "numValues: 11, numResults: 9, stopped: FALSE\n",
            "returning status FALSE\n",
            "numValues: 12, numResults: 10, stopped: FALSE\n",
            "returning status FALSE\n",
            "numValues: 12, numResults: 10, stopped: TRUE\n",
            "numValues: 12, numResults: 11, stopped: TRUE\n",
            "returning status FALSE\n",
            "numValues: 12, numResults: 12, stopped: TRUE\n",
            "calling combine function\n",
            "evaluating call object to combine results:\n",
            "  fun(accum, result.1, result.2, result.3, result.4, result.5, \n",
            "    result.6, result.7, result.8, result.9, result.10, result.11, \n",
            "    result.12)\n",
            "returning status TRUE\n",
            "[1] \"Done 1987\"\n",
            "[1] \" Done\"\n",
            "[1] \"1988\"\n",
            "[1] \"1988\"\n",
            "[1] \"To extract by mask\"\n",
            "discovered package(s): \n",
            "automatically exporting the following variables from the local environment:\n",
            "  fle \n",
            "explicitly exporting package(s): \n",
            "numValues: 3, numResults: 1, stopped: FALSE\n",
            "returning status FALSE\n",
            "numValues: 4, numResults: 2, stopped: FALSE\n",
            "returning status FALSE\n",
            "numValues: 5, numResults: 3, stopped: FALSE\n",
            "returning status FALSE\n",
            "numValues: 6, numResults: 4, stopped: FALSE\n",
            "returning status FALSE\n",
            "numValues: 7, numResults: 5, stopped: FALSE\n",
            "returning status FALSE\n",
            "numValues: 8, numResults: 6, stopped: FALSE\n",
            "returning status FALSE\n",
            "numValues: 9, numResults: 7, stopped: FALSE\n",
            "returning status FALSE\n",
            "numValues: 10, numResults: 8, stopped: FALSE\n",
            "returning status FALSE\n",
            "numValues: 11, numResults: 9, stopped: FALSE\n",
            "returning status FALSE\n",
            "numValues: 12, numResults: 10, stopped: FALSE\n",
            "returning status FALSE\n",
            "numValues: 12, numResults: 10, stopped: TRUE\n",
            "numValues: 12, numResults: 11, stopped: TRUE\n",
            "returning status FALSE\n",
            "numValues: 12, numResults: 12, stopped: TRUE\n",
            "calling combine function\n",
            "evaluating call object to combine results:\n",
            "  fun(accum, result.1, result.2, result.3, result.4, result.5, \n",
            "    result.6, result.7, result.8, result.9, result.10, result.11, \n",
            "    result.12)\n",
            "returning status TRUE\n",
            "[1] \"Done 1988\"\n",
            "[1] \" Done\"\n",
            "[1] \"1989\"\n",
            "[1] \"1989\"\n",
            "[1] \"To extract by mask\"\n",
            "discovered package(s): \n",
            "automatically exporting the following variables from the local environment:\n",
            "  fle \n",
            "explicitly exporting package(s): \n",
            "numValues: 3, numResults: 1, stopped: FALSE\n",
            "returning status FALSE\n",
            "numValues: 4, numResults: 2, stopped: FALSE\n",
            "returning status FALSE\n",
            "numValues: 5, numResults: 3, stopped: FALSE\n",
            "returning status FALSE\n",
            "numValues: 6, numResults: 4, stopped: FALSE\n",
            "returning status FALSE\n",
            "numValues: 7, numResults: 5, stopped: FALSE\n",
            "returning status FALSE\n",
            "numValues: 8, numResults: 6, stopped: FALSE\n",
            "returning status FALSE\n",
            "numValues: 9, numResults: 7, stopped: FALSE\n",
            "returning status FALSE\n",
            "numValues: 10, numResults: 8, stopped: FALSE\n",
            "returning status FALSE\n",
            "numValues: 11, numResults: 9, stopped: FALSE\n",
            "returning status FALSE\n",
            "numValues: 12, numResults: 10, stopped: FALSE\n",
            "returning status FALSE\n",
            "numValues: 12, numResults: 10, stopped: TRUE\n",
            "numValues: 12, numResults: 11, stopped: TRUE\n",
            "returning status FALSE\n",
            "numValues: 12, numResults: 12, stopped: TRUE\n",
            "calling combine function\n",
            "evaluating call object to combine results:\n",
            "  fun(accum, result.1, result.2, result.3, result.4, result.5, \n",
            "    result.6, result.7, result.8, result.9, result.10, result.11, \n",
            "    result.12)\n",
            "returning status TRUE\n",
            "[1] \"Done 1989\"\n",
            "[1] \" Done\"\n",
            "[1] \"1990\"\n",
            "[1] \"1990\"\n",
            "[1] \"To extract by mask\"\n",
            "discovered package(s): \n",
            "automatically exporting the following variables from the local environment:\n",
            "  fle \n",
            "explicitly exporting package(s): \n",
            "numValues: 3, numResults: 1, stopped: FALSE\n",
            "returning status FALSE\n",
            "numValues: 4, numResults: 2, stopped: FALSE\n",
            "returning status FALSE\n",
            "numValues: 5, numResults: 3, stopped: FALSE\n",
            "returning status FALSE\n",
            "numValues: 6, numResults: 4, stopped: FALSE\n",
            "returning status FALSE\n",
            "numValues: 7, numResults: 5, stopped: FALSE\n",
            "returning status FALSE\n",
            "numValues: 8, numResults: 6, stopped: FALSE\n",
            "returning status FALSE\n",
            "numValues: 9, numResults: 7, stopped: FALSE\n",
            "returning status FALSE\n",
            "numValues: 10, numResults: 8, stopped: FALSE\n",
            "returning status FALSE\n",
            "numValues: 11, numResults: 9, stopped: FALSE\n",
            "returning status FALSE\n",
            "numValues: 12, numResults: 10, stopped: FALSE\n",
            "returning status FALSE\n",
            "numValues: 12, numResults: 10, stopped: TRUE\n",
            "numValues: 12, numResults: 11, stopped: TRUE\n",
            "returning status FALSE\n",
            "numValues: 12, numResults: 12, stopped: TRUE\n",
            "calling combine function\n",
            "evaluating call object to combine results:\n",
            "  fun(accum, result.1, result.2, result.3, result.4, result.5, \n",
            "    result.6, result.7, result.8, result.9, result.10, result.11, \n",
            "    result.12)\n",
            "returning status TRUE\n",
            "[1] \"Done 1990\"\n",
            "[1] \" Done\"\n",
            "[1] \"1991\"\n",
            "[1] \"1991\"\n",
            "[1] \"To extract by mask\"\n",
            "discovered package(s): \n",
            "automatically exporting the following variables from the local environment:\n",
            "  fle \n",
            "explicitly exporting package(s): \n",
            "numValues: 3, numResults: 1, stopped: FALSE\n",
            "returning status FALSE\n",
            "numValues: 4, numResults: 2, stopped: FALSE\n",
            "returning status FALSE\n",
            "numValues: 5, numResults: 3, stopped: FALSE\n",
            "returning status FALSE\n",
            "numValues: 6, numResults: 4, stopped: FALSE\n",
            "returning status FALSE\n",
            "numValues: 7, numResults: 5, stopped: FALSE\n",
            "returning status FALSE\n",
            "numValues: 8, numResults: 6, stopped: FALSE\n",
            "returning status FALSE\n",
            "numValues: 9, numResults: 7, stopped: FALSE\n",
            "returning status FALSE\n",
            "numValues: 10, numResults: 8, stopped: FALSE\n",
            "returning status FALSE\n",
            "numValues: 11, numResults: 9, stopped: FALSE\n",
            "returning status FALSE\n",
            "numValues: 12, numResults: 10, stopped: FALSE\n",
            "returning status FALSE\n",
            "numValues: 12, numResults: 10, stopped: TRUE\n",
            "numValues: 12, numResults: 11, stopped: TRUE\n",
            "returning status FALSE\n",
            "numValues: 12, numResults: 12, stopped: TRUE\n",
            "calling combine function\n",
            "evaluating call object to combine results:\n",
            "  fun(accum, result.1, result.2, result.3, result.4, result.5, \n",
            "    result.6, result.7, result.8, result.9, result.10, result.11, \n",
            "    result.12)\n",
            "returning status TRUE\n",
            "[1] \"Done 1991\"\n",
            "[1] \" Done\"\n",
            "[1] \"1992\"\n",
            "[1] \"1992\"\n",
            "[1] \"To extract by mask\"\n",
            "discovered package(s): \n",
            "automatically exporting the following variables from the local environment:\n",
            "  fle \n",
            "explicitly exporting package(s): \n",
            "numValues: 3, numResults: 1, stopped: FALSE\n",
            "returning status FALSE\n",
            "numValues: 4, numResults: 2, stopped: FALSE\n",
            "returning status FALSE\n",
            "numValues: 5, numResults: 3, stopped: FALSE\n",
            "returning status FALSE\n",
            "numValues: 6, numResults: 4, stopped: FALSE\n",
            "returning status FALSE\n",
            "numValues: 7, numResults: 5, stopped: FALSE\n",
            "returning status FALSE\n",
            "numValues: 8, numResults: 6, stopped: FALSE\n",
            "returning status FALSE\n",
            "numValues: 9, numResults: 7, stopped: FALSE\n",
            "returning status FALSE\n",
            "numValues: 10, numResults: 8, stopped: FALSE\n",
            "returning status FALSE\n",
            "numValues: 11, numResults: 9, stopped: FALSE\n",
            "returning status FALSE\n",
            "numValues: 12, numResults: 10, stopped: FALSE\n",
            "returning status FALSE\n",
            "numValues: 12, numResults: 10, stopped: TRUE\n",
            "numValues: 12, numResults: 11, stopped: TRUE\n",
            "returning status FALSE\n",
            "numValues: 12, numResults: 12, stopped: TRUE\n",
            "calling combine function\n",
            "evaluating call object to combine results:\n",
            "  fun(accum, result.1, result.2, result.3, result.4, result.5, \n",
            "    result.6, result.7, result.8, result.9, result.10, result.11, \n",
            "    result.12)\n",
            "returning status TRUE\n",
            "[1] \"Done 1992\"\n",
            "[1] \" Done\"\n",
            "[1] \"1993\"\n",
            "[1] \"1993\"\n",
            "[1] \"To extract by mask\"\n",
            "discovered package(s): \n",
            "automatically exporting the following variables from the local environment:\n",
            "  fle \n",
            "explicitly exporting package(s): \n",
            "numValues: 3, numResults: 1, stopped: FALSE\n",
            "returning status FALSE\n",
            "numValues: 4, numResults: 2, stopped: FALSE\n",
            "returning status FALSE\n",
            "numValues: 5, numResults: 3, stopped: FALSE\n",
            "returning status FALSE\n",
            "numValues: 6, numResults: 4, stopped: FALSE\n",
            "returning status FALSE\n",
            "numValues: 7, numResults: 5, stopped: FALSE\n",
            "returning status FALSE\n",
            "numValues: 8, numResults: 6, stopped: FALSE\n",
            "returning status FALSE\n",
            "numValues: 9, numResults: 7, stopped: FALSE\n",
            "returning status FALSE\n",
            "numValues: 10, numResults: 8, stopped: FALSE\n",
            "returning status FALSE\n",
            "numValues: 11, numResults: 9, stopped: FALSE\n",
            "returning status FALSE\n",
            "numValues: 12, numResults: 10, stopped: FALSE\n",
            "returning status FALSE\n",
            "numValues: 12, numResults: 10, stopped: TRUE\n",
            "numValues: 12, numResults: 11, stopped: TRUE\n",
            "returning status FALSE\n",
            "numValues: 12, numResults: 12, stopped: TRUE\n",
            "calling combine function\n",
            "evaluating call object to combine results:\n",
            "  fun(accum, result.1, result.2, result.3, result.4, result.5, \n",
            "    result.6, result.7, result.8, result.9, result.10, result.11, \n",
            "    result.12)\n",
            "returning status TRUE\n",
            "[1] \"Done 1993\"\n",
            "[1] \" Done\"\n",
            "[1] \"1994\"\n",
            "[1] \"1994\"\n",
            "[1] \"To extract by mask\"\n",
            "discovered package(s): \n",
            "automatically exporting the following variables from the local environment:\n",
            "  fle \n",
            "explicitly exporting package(s): \n",
            "numValues: 3, numResults: 1, stopped: FALSE\n",
            "returning status FALSE\n",
            "numValues: 4, numResults: 2, stopped: FALSE\n",
            "returning status FALSE\n",
            "numValues: 5, numResults: 3, stopped: FALSE\n",
            "returning status FALSE\n",
            "numValues: 6, numResults: 4, stopped: FALSE\n",
            "returning status FALSE\n",
            "numValues: 7, numResults: 5, stopped: FALSE\n",
            "returning status FALSE\n",
            "numValues: 8, numResults: 6, stopped: FALSE\n",
            "returning status FALSE\n",
            "numValues: 9, numResults: 7, stopped: FALSE\n",
            "returning status FALSE\n",
            "numValues: 10, numResults: 8, stopped: FALSE\n",
            "returning status FALSE\n",
            "numValues: 11, numResults: 9, stopped: FALSE\n",
            "returning status FALSE\n",
            "numValues: 12, numResults: 10, stopped: FALSE\n",
            "returning status FALSE\n",
            "numValues: 12, numResults: 10, stopped: TRUE\n",
            "numValues: 12, numResults: 11, stopped: TRUE\n",
            "returning status FALSE\n",
            "numValues: 12, numResults: 12, stopped: TRUE\n",
            "calling combine function\n",
            "evaluating call object to combine results:\n",
            "  fun(accum, result.1, result.2, result.3, result.4, result.5, \n",
            "    result.6, result.7, result.8, result.9, result.10, result.11, \n",
            "    result.12)\n",
            "returning status TRUE\n",
            "[1] \"Done 1994\"\n",
            "[1] \" Done\"\n",
            "[1] \"1995\"\n",
            "[1] \"1995\"\n",
            "[1] \"To extract by mask\"\n",
            "discovered package(s): \n",
            "automatically exporting the following variables from the local environment:\n",
            "  fle \n",
            "explicitly exporting package(s): \n",
            "numValues: 3, numResults: 1, stopped: FALSE\n",
            "returning status FALSE\n",
            "numValues: 4, numResults: 2, stopped: FALSE\n",
            "returning status FALSE\n",
            "numValues: 5, numResults: 3, stopped: FALSE\n",
            "returning status FALSE\n",
            "numValues: 6, numResults: 4, stopped: FALSE\n",
            "returning status FALSE\n",
            "numValues: 7, numResults: 5, stopped: FALSE\n",
            "returning status FALSE\n",
            "numValues: 8, numResults: 6, stopped: FALSE\n",
            "returning status FALSE\n",
            "numValues: 9, numResults: 7, stopped: FALSE\n",
            "returning status FALSE\n",
            "numValues: 10, numResults: 8, stopped: FALSE\n",
            "returning status FALSE\n",
            "numValues: 11, numResults: 9, stopped: FALSE\n",
            "returning status FALSE\n",
            "numValues: 12, numResults: 10, stopped: FALSE\n",
            "returning status FALSE\n",
            "numValues: 12, numResults: 10, stopped: TRUE\n",
            "numValues: 12, numResults: 11, stopped: TRUE\n",
            "returning status FALSE\n",
            "numValues: 12, numResults: 12, stopped: TRUE\n",
            "calling combine function\n",
            "evaluating call object to combine results:\n",
            "  fun(accum, result.1, result.2, result.3, result.4, result.5, \n",
            "    result.6, result.7, result.8, result.9, result.10, result.11, \n",
            "    result.12)\n",
            "returning status TRUE\n",
            "[1] \"Done 1995\"\n",
            "[1] \" Done\"\n",
            "[1] \"1996\"\n",
            "[1] \"1996\"\n",
            "[1] \"To extract by mask\"\n",
            "discovered package(s): \n",
            "automatically exporting the following variables from the local environment:\n",
            "  fle \n",
            "explicitly exporting package(s): \n",
            "numValues: 3, numResults: 1, stopped: FALSE\n",
            "returning status FALSE\n",
            "numValues: 4, numResults: 2, stopped: FALSE\n",
            "returning status FALSE\n",
            "numValues: 5, numResults: 3, stopped: FALSE\n",
            "returning status FALSE\n",
            "numValues: 6, numResults: 4, stopped: FALSE\n",
            "returning status FALSE\n",
            "numValues: 7, numResults: 5, stopped: FALSE\n",
            "returning status FALSE\n",
            "numValues: 8, numResults: 6, stopped: FALSE\n",
            "returning status FALSE\n",
            "numValues: 9, numResults: 7, stopped: FALSE\n",
            "returning status FALSE\n",
            "numValues: 10, numResults: 8, stopped: FALSE\n",
            "returning status FALSE\n",
            "numValues: 11, numResults: 9, stopped: FALSE\n",
            "returning status FALSE\n",
            "numValues: 12, numResults: 10, stopped: FALSE\n",
            "returning status FALSE\n",
            "numValues: 12, numResults: 10, stopped: TRUE\n",
            "numValues: 12, numResults: 11, stopped: TRUE\n",
            "returning status FALSE\n",
            "numValues: 12, numResults: 12, stopped: TRUE\n",
            "calling combine function\n",
            "evaluating call object to combine results:\n",
            "  fun(accum, result.1, result.2, result.3, result.4, result.5, \n",
            "    result.6, result.7, result.8, result.9, result.10, result.11, \n",
            "    result.12)\n",
            "returning status TRUE\n",
            "[1] \"Done 1996\"\n",
            "[1] \" Done\"\n",
            "[1] \"1997\"\n",
            "[1] \"1997\"\n",
            "[1] \"To extract by mask\"\n",
            "discovered package(s): \n",
            "automatically exporting the following variables from the local environment:\n",
            "  fle \n",
            "explicitly exporting package(s): \n",
            "numValues: 3, numResults: 1, stopped: FALSE\n",
            "returning status FALSE\n",
            "numValues: 4, numResults: 2, stopped: FALSE\n",
            "returning status FALSE\n",
            "numValues: 5, numResults: 3, stopped: FALSE\n",
            "returning status FALSE\n",
            "numValues: 6, numResults: 4, stopped: FALSE\n",
            "returning status FALSE\n",
            "numValues: 7, numResults: 5, stopped: FALSE\n",
            "returning status FALSE\n",
            "numValues: 8, numResults: 6, stopped: FALSE\n",
            "returning status FALSE\n",
            "numValues: 9, numResults: 7, stopped: FALSE\n",
            "returning status FALSE\n",
            "numValues: 10, numResults: 8, stopped: FALSE\n",
            "returning status FALSE\n",
            "numValues: 11, numResults: 9, stopped: FALSE\n",
            "returning status FALSE\n",
            "numValues: 12, numResults: 10, stopped: FALSE\n",
            "returning status FALSE\n",
            "numValues: 12, numResults: 10, stopped: TRUE\n",
            "numValues: 12, numResults: 11, stopped: TRUE\n",
            "returning status FALSE\n",
            "numValues: 12, numResults: 12, stopped: TRUE\n",
            "calling combine function\n",
            "evaluating call object to combine results:\n",
            "  fun(accum, result.1, result.2, result.3, result.4, result.5, \n",
            "    result.6, result.7, result.8, result.9, result.10, result.11, \n",
            "    result.12)\n",
            "returning status TRUE\n",
            "[1] \"Done 1997\"\n",
            "[1] \" Done\"\n",
            "[1] \"1998\"\n",
            "[1] \"1998\"\n",
            "[1] \"To extract by mask\"\n",
            "discovered package(s): \n",
            "automatically exporting the following variables from the local environment:\n",
            "  fle \n",
            "explicitly exporting package(s): \n",
            "numValues: 3, numResults: 1, stopped: FALSE\n",
            "returning status FALSE\n",
            "numValues: 4, numResults: 2, stopped: FALSE\n",
            "returning status FALSE\n",
            "numValues: 5, numResults: 3, stopped: FALSE\n",
            "returning status FALSE\n",
            "numValues: 6, numResults: 4, stopped: FALSE\n",
            "returning status FALSE\n",
            "numValues: 7, numResults: 5, stopped: FALSE\n",
            "returning status FALSE\n",
            "numValues: 8, numResults: 6, stopped: FALSE\n",
            "returning status FALSE\n",
            "numValues: 9, numResults: 7, stopped: FALSE\n",
            "returning status FALSE\n",
            "numValues: 10, numResults: 8, stopped: FALSE\n",
            "returning status FALSE\n",
            "numValues: 11, numResults: 9, stopped: FALSE\n",
            "returning status FALSE\n",
            "numValues: 12, numResults: 10, stopped: FALSE\n",
            "returning status FALSE\n",
            "numValues: 12, numResults: 10, stopped: TRUE\n",
            "numValues: 12, numResults: 11, stopped: TRUE\n",
            "returning status FALSE\n",
            "numValues: 12, numResults: 12, stopped: TRUE\n",
            "calling combine function\n",
            "evaluating call object to combine results:\n",
            "  fun(accum, result.1, result.2, result.3, result.4, result.5, \n",
            "    result.6, result.7, result.8, result.9, result.10, result.11, \n",
            "    result.12)\n",
            "returning status TRUE\n",
            "[1] \"Done 1998\"\n",
            "[1] \" Done\"\n",
            "[1] \"1999\"\n",
            "[1] \"1999\"\n",
            "[1] \"To extract by mask\"\n",
            "discovered package(s): \n",
            "automatically exporting the following variables from the local environment:\n",
            "  fle \n",
            "explicitly exporting package(s): \n",
            "numValues: 3, numResults: 1, stopped: FALSE\n",
            "returning status FALSE\n",
            "numValues: 4, numResults: 2, stopped: FALSE\n",
            "returning status FALSE\n",
            "numValues: 5, numResults: 3, stopped: FALSE\n",
            "returning status FALSE\n",
            "numValues: 6, numResults: 4, stopped: FALSE\n",
            "returning status FALSE\n",
            "numValues: 7, numResults: 5, stopped: FALSE\n",
            "returning status FALSE\n",
            "numValues: 8, numResults: 6, stopped: FALSE\n",
            "returning status FALSE\n",
            "numValues: 9, numResults: 7, stopped: FALSE\n",
            "returning status FALSE\n",
            "numValues: 10, numResults: 8, stopped: FALSE\n",
            "returning status FALSE\n",
            "numValues: 11, numResults: 9, stopped: FALSE\n",
            "returning status FALSE\n",
            "numValues: 12, numResults: 10, stopped: FALSE\n",
            "returning status FALSE\n",
            "numValues: 12, numResults: 10, stopped: TRUE\n",
            "numValues: 12, numResults: 11, stopped: TRUE\n",
            "returning status FALSE\n",
            "numValues: 12, numResults: 12, stopped: TRUE\n",
            "calling combine function\n",
            "evaluating call object to combine results:\n",
            "  fun(accum, result.1, result.2, result.3, result.4, result.5, \n",
            "    result.6, result.7, result.8, result.9, result.10, result.11, \n",
            "    result.12)\n",
            "returning status TRUE\n",
            "[1] \"Done 1999\"\n",
            "[1] \" Done\"\n",
            "[1] \"2000\"\n",
            "[1] \"2000\"\n",
            "[1] \"To extract by mask\"\n",
            "discovered package(s): \n",
            "automatically exporting the following variables from the local environment:\n",
            "  fle \n",
            "explicitly exporting package(s): \n",
            "numValues: 3, numResults: 1, stopped: FALSE\n",
            "returning status FALSE\n",
            "numValues: 4, numResults: 2, stopped: FALSE\n",
            "returning status FALSE\n",
            "numValues: 5, numResults: 3, stopped: FALSE\n",
            "returning status FALSE\n",
            "numValues: 6, numResults: 4, stopped: FALSE\n",
            "returning status FALSE\n",
            "numValues: 7, numResults: 5, stopped: FALSE\n",
            "returning status FALSE\n",
            "numValues: 8, numResults: 6, stopped: FALSE\n",
            "returning status FALSE\n",
            "numValues: 9, numResults: 7, stopped: FALSE\n",
            "returning status FALSE\n",
            "numValues: 10, numResults: 8, stopped: FALSE\n",
            "returning status FALSE\n",
            "numValues: 11, numResults: 9, stopped: FALSE\n",
            "returning status FALSE\n",
            "numValues: 12, numResults: 10, stopped: FALSE\n",
            "returning status FALSE\n",
            "numValues: 12, numResults: 10, stopped: TRUE\n",
            "numValues: 12, numResults: 11, stopped: TRUE\n",
            "returning status FALSE\n",
            "numValues: 12, numResults: 12, stopped: TRUE\n",
            "calling combine function\n",
            "evaluating call object to combine results:\n",
            "  fun(accum, result.1, result.2, result.3, result.4, result.5, \n",
            "    result.6, result.7, result.8, result.9, result.10, result.11, \n",
            "    result.12)\n",
            "returning status TRUE\n",
            "[1] \"Done 2000\"\n",
            "[1] \" Done\"\n",
            "[1] \"2001\"\n",
            "[1] \"2001\"\n",
            "[1] \"To extract by mask\"\n",
            "discovered package(s): \n",
            "automatically exporting the following variables from the local environment:\n",
            "  fle \n",
            "explicitly exporting package(s): \n",
            "numValues: 3, numResults: 1, stopped: FALSE\n",
            "returning status FALSE\n",
            "numValues: 4, numResults: 2, stopped: FALSE\n",
            "returning status FALSE\n",
            "numValues: 5, numResults: 3, stopped: FALSE\n",
            "returning status FALSE\n",
            "numValues: 6, numResults: 4, stopped: FALSE\n",
            "returning status FALSE\n",
            "numValues: 7, numResults: 5, stopped: FALSE\n",
            "returning status FALSE\n",
            "numValues: 8, numResults: 6, stopped: FALSE\n",
            "returning status FALSE\n",
            "numValues: 9, numResults: 7, stopped: FALSE\n",
            "returning status FALSE\n",
            "numValues: 10, numResults: 8, stopped: FALSE\n",
            "returning status FALSE\n",
            "numValues: 11, numResults: 9, stopped: FALSE\n",
            "returning status FALSE\n",
            "numValues: 12, numResults: 10, stopped: FALSE\n",
            "returning status FALSE\n",
            "numValues: 12, numResults: 10, stopped: TRUE\n",
            "numValues: 12, numResults: 11, stopped: TRUE\n",
            "returning status FALSE\n",
            "numValues: 12, numResults: 12, stopped: TRUE\n",
            "calling combine function\n",
            "evaluating call object to combine results:\n",
            "  fun(accum, result.1, result.2, result.3, result.4, result.5, \n",
            "    result.6, result.7, result.8, result.9, result.10, result.11, \n",
            "    result.12)\n",
            "returning status TRUE\n",
            "[1] \"Done 2001\"\n",
            "[1] \" Done\"\n",
            "[1] \"2002\"\n",
            "[1] \"2002\"\n",
            "[1] \"To extract by mask\"\n",
            "discovered package(s): \n",
            "automatically exporting the following variables from the local environment:\n",
            "  fle \n",
            "explicitly exporting package(s): \n",
            "numValues: 3, numResults: 1, stopped: FALSE\n",
            "returning status FALSE\n",
            "numValues: 4, numResults: 2, stopped: FALSE\n",
            "returning status FALSE\n",
            "numValues: 5, numResults: 3, stopped: FALSE\n",
            "returning status FALSE\n",
            "numValues: 6, numResults: 4, stopped: FALSE\n",
            "returning status FALSE\n",
            "numValues: 7, numResults: 5, stopped: FALSE\n",
            "returning status FALSE\n",
            "numValues: 8, numResults: 6, stopped: FALSE\n",
            "returning status FALSE\n",
            "numValues: 9, numResults: 7, stopped: FALSE\n",
            "returning status FALSE\n",
            "numValues: 10, numResults: 8, stopped: FALSE\n",
            "returning status FALSE\n",
            "numValues: 11, numResults: 9, stopped: FALSE\n",
            "returning status FALSE\n",
            "numValues: 12, numResults: 10, stopped: FALSE\n",
            "returning status FALSE\n",
            "numValues: 12, numResults: 10, stopped: TRUE\n",
            "numValues: 12, numResults: 11, stopped: TRUE\n",
            "returning status FALSE\n",
            "numValues: 12, numResults: 12, stopped: TRUE\n",
            "calling combine function\n",
            "evaluating call object to combine results:\n",
            "  fun(accum, result.1, result.2, result.3, result.4, result.5, \n",
            "    result.6, result.7, result.8, result.9, result.10, result.11, \n",
            "    result.12)\n",
            "returning status TRUE\n",
            "[1] \"Done 2002\"\n",
            "[1] \" Done\"\n",
            "[1] \"2003\"\n",
            "[1] \"2003\"\n",
            "[1] \"To extract by mask\"\n",
            "discovered package(s): \n",
            "automatically exporting the following variables from the local environment:\n",
            "  fle \n",
            "explicitly exporting package(s): \n",
            "numValues: 3, numResults: 1, stopped: FALSE\n",
            "returning status FALSE\n",
            "numValues: 4, numResults: 2, stopped: FALSE\n",
            "returning status FALSE\n",
            "numValues: 5, numResults: 3, stopped: FALSE\n",
            "returning status FALSE\n",
            "numValues: 6, numResults: 4, stopped: FALSE\n",
            "returning status FALSE\n",
            "numValues: 7, numResults: 5, stopped: FALSE\n",
            "returning status FALSE\n",
            "numValues: 8, numResults: 6, stopped: FALSE\n",
            "returning status FALSE\n",
            "numValues: 9, numResults: 7, stopped: FALSE\n",
            "returning status FALSE\n",
            "numValues: 10, numResults: 8, stopped: FALSE\n",
            "returning status FALSE\n",
            "numValues: 11, numResults: 9, stopped: FALSE\n",
            "returning status FALSE\n",
            "numValues: 12, numResults: 10, stopped: FALSE\n",
            "returning status FALSE\n",
            "numValues: 12, numResults: 10, stopped: TRUE\n",
            "numValues: 12, numResults: 11, stopped: TRUE\n",
            "returning status FALSE\n",
            "numValues: 12, numResults: 12, stopped: TRUE\n",
            "calling combine function\n",
            "evaluating call object to combine results:\n",
            "  fun(accum, result.1, result.2, result.3, result.4, result.5, \n",
            "    result.6, result.7, result.8, result.9, result.10, result.11, \n",
            "    result.12)\n",
            "returning status TRUE\n",
            "[1] \"Done 2003\"\n",
            "[1] \" Done\"\n",
            "[1] \"2004\"\n",
            "[1] \"2004\"\n",
            "[1] \"To extract by mask\"\n",
            "discovered package(s): \n",
            "automatically exporting the following variables from the local environment:\n",
            "  fle \n",
            "explicitly exporting package(s): \n",
            "numValues: 3, numResults: 1, stopped: FALSE\n",
            "returning status FALSE\n",
            "numValues: 4, numResults: 2, stopped: FALSE\n",
            "returning status FALSE\n",
            "numValues: 5, numResults: 3, stopped: FALSE\n",
            "returning status FALSE\n",
            "numValues: 6, numResults: 4, stopped: FALSE\n",
            "returning status FALSE\n",
            "numValues: 7, numResults: 5, stopped: FALSE\n",
            "returning status FALSE\n",
            "numValues: 8, numResults: 6, stopped: FALSE\n",
            "returning status FALSE\n",
            "numValues: 9, numResults: 7, stopped: FALSE\n",
            "returning status FALSE\n",
            "numValues: 10, numResults: 8, stopped: FALSE\n",
            "returning status FALSE\n",
            "numValues: 11, numResults: 9, stopped: FALSE\n",
            "returning status FALSE\n",
            "numValues: 12, numResults: 10, stopped: FALSE\n",
            "returning status FALSE\n",
            "numValues: 12, numResults: 10, stopped: TRUE\n",
            "numValues: 12, numResults: 11, stopped: TRUE\n",
            "returning status FALSE\n",
            "numValues: 12, numResults: 12, stopped: TRUE\n",
            "calling combine function\n",
            "evaluating call object to combine results:\n",
            "  fun(accum, result.1, result.2, result.3, result.4, result.5, \n",
            "    result.6, result.7, result.8, result.9, result.10, result.11, \n",
            "    result.12)\n",
            "returning status TRUE\n",
            "[1] \"Done 2004\"\n",
            "[1] \" Done\"\n",
            "[1] \"2005\"\n",
            "[1] \"2005\"\n",
            "[1] \"To extract by mask\"\n",
            "discovered package(s): \n",
            "automatically exporting the following variables from the local environment:\n",
            "  fle \n",
            "explicitly exporting package(s): \n",
            "numValues: 3, numResults: 1, stopped: FALSE\n",
            "returning status FALSE\n",
            "numValues: 4, numResults: 2, stopped: FALSE\n",
            "returning status FALSE\n",
            "numValues: 5, numResults: 3, stopped: FALSE\n",
            "returning status FALSE\n",
            "numValues: 6, numResults: 4, stopped: FALSE\n",
            "returning status FALSE\n",
            "numValues: 7, numResults: 5, stopped: FALSE\n",
            "returning status FALSE\n",
            "numValues: 8, numResults: 6, stopped: FALSE\n",
            "returning status FALSE\n",
            "numValues: 9, numResults: 7, stopped: FALSE\n",
            "returning status FALSE\n",
            "numValues: 10, numResults: 8, stopped: FALSE\n",
            "returning status FALSE\n",
            "numValues: 11, numResults: 9, stopped: FALSE\n",
            "returning status FALSE\n",
            "numValues: 12, numResults: 10, stopped: FALSE\n",
            "returning status FALSE\n",
            "numValues: 12, numResults: 10, stopped: TRUE\n",
            "numValues: 12, numResults: 11, stopped: TRUE\n",
            "returning status FALSE\n",
            "numValues: 12, numResults: 12, stopped: TRUE\n",
            "calling combine function\n",
            "evaluating call object to combine results:\n",
            "  fun(accum, result.1, result.2, result.3, result.4, result.5, \n",
            "    result.6, result.7, result.8, result.9, result.10, result.11, \n",
            "    result.12)\n",
            "returning status TRUE\n",
            "[1] \"Done 2005\"\n",
            "[1] \" Done\"\n",
            "[1] \"2006\"\n",
            "[1] \"2006\"\n",
            "[1] \"To extract by mask\"\n",
            "discovered package(s): \n",
            "automatically exporting the following variables from the local environment:\n",
            "  fle \n",
            "explicitly exporting package(s): \n",
            "numValues: 3, numResults: 1, stopped: FALSE\n",
            "returning status FALSE\n",
            "numValues: 4, numResults: 2, stopped: FALSE\n",
            "returning status FALSE\n",
            "numValues: 5, numResults: 3, stopped: FALSE\n",
            "returning status FALSE\n",
            "numValues: 6, numResults: 4, stopped: FALSE\n",
            "returning status FALSE\n",
            "numValues: 7, numResults: 5, stopped: FALSE\n",
            "returning status FALSE\n",
            "numValues: 8, numResults: 6, stopped: FALSE\n",
            "returning status FALSE\n",
            "numValues: 9, numResults: 7, stopped: FALSE\n",
            "returning status FALSE\n",
            "numValues: 10, numResults: 8, stopped: FALSE\n",
            "returning status FALSE\n",
            "numValues: 11, numResults: 9, stopped: FALSE\n",
            "returning status FALSE\n",
            "numValues: 12, numResults: 10, stopped: FALSE\n",
            "returning status FALSE\n",
            "numValues: 12, numResults: 10, stopped: TRUE\n",
            "numValues: 12, numResults: 11, stopped: TRUE\n",
            "returning status FALSE\n",
            "numValues: 12, numResults: 12, stopped: TRUE\n",
            "calling combine function\n",
            "evaluating call object to combine results:\n",
            "  fun(accum, result.1, result.2, result.3, result.4, result.5, \n",
            "    result.6, result.7, result.8, result.9, result.10, result.11, \n",
            "    result.12)\n",
            "returning status TRUE\n",
            "[1] \"Done 2006\"\n",
            "[1] \" Done\"\n",
            "[1] \"2007\"\n",
            "[1] \"2007\"\n",
            "[1] \"To extract by mask\"\n",
            "discovered package(s): \n",
            "automatically exporting the following variables from the local environment:\n",
            "  fle \n",
            "explicitly exporting package(s): \n",
            "numValues: 3, numResults: 1, stopped: FALSE\n",
            "returning status FALSE\n",
            "numValues: 4, numResults: 2, stopped: FALSE\n",
            "returning status FALSE\n",
            "numValues: 5, numResults: 3, stopped: FALSE\n",
            "returning status FALSE\n",
            "numValues: 6, numResults: 4, stopped: FALSE\n",
            "returning status FALSE\n",
            "numValues: 7, numResults: 5, stopped: FALSE\n",
            "returning status FALSE\n",
            "numValues: 8, numResults: 6, stopped: FALSE\n",
            "returning status FALSE\n",
            "numValues: 9, numResults: 7, stopped: FALSE\n",
            "returning status FALSE\n",
            "numValues: 10, numResults: 8, stopped: FALSE\n",
            "returning status FALSE\n",
            "numValues: 11, numResults: 9, stopped: FALSE\n",
            "returning status FALSE\n",
            "numValues: 12, numResults: 10, stopped: FALSE\n",
            "returning status FALSE\n",
            "numValues: 12, numResults: 10, stopped: TRUE\n",
            "numValues: 12, numResults: 11, stopped: TRUE\n",
            "returning status FALSE\n",
            "numValues: 12, numResults: 12, stopped: TRUE\n",
            "calling combine function\n",
            "evaluating call object to combine results:\n",
            "  fun(accum, result.1, result.2, result.3, result.4, result.5, \n",
            "    result.6, result.7, result.8, result.9, result.10, result.11, \n",
            "    result.12)\n",
            "returning status TRUE\n",
            "[1] \"Done 2007\"\n",
            "[1] \" Done\"\n",
            "[1] \"2008\"\n",
            "[1] \"2008\"\n",
            "[1] \"To extract by mask\"\n",
            "discovered package(s): \n",
            "automatically exporting the following variables from the local environment:\n",
            "  fle \n",
            "explicitly exporting package(s): \n",
            "numValues: 3, numResults: 1, stopped: FALSE\n",
            "returning status FALSE\n",
            "numValues: 4, numResults: 2, stopped: FALSE\n",
            "returning status FALSE\n",
            "numValues: 5, numResults: 3, stopped: FALSE\n",
            "returning status FALSE\n",
            "numValues: 6, numResults: 4, stopped: FALSE\n",
            "returning status FALSE\n",
            "numValues: 7, numResults: 5, stopped: FALSE\n",
            "returning status FALSE\n",
            "numValues: 8, numResults: 6, stopped: FALSE\n",
            "returning status FALSE\n",
            "numValues: 9, numResults: 7, stopped: FALSE\n",
            "returning status FALSE\n",
            "numValues: 10, numResults: 8, stopped: FALSE\n",
            "returning status FALSE\n",
            "numValues: 11, numResults: 9, stopped: FALSE\n",
            "returning status FALSE\n",
            "numValues: 12, numResults: 10, stopped: FALSE\n",
            "returning status FALSE\n",
            "numValues: 12, numResults: 10, stopped: TRUE\n",
            "numValues: 12, numResults: 11, stopped: TRUE\n",
            "returning status FALSE\n",
            "numValues: 12, numResults: 12, stopped: TRUE\n",
            "calling combine function\n",
            "evaluating call object to combine results:\n",
            "  fun(accum, result.1, result.2, result.3, result.4, result.5, \n",
            "    result.6, result.7, result.8, result.9, result.10, result.11, \n",
            "    result.12)\n",
            "returning status TRUE\n",
            "[1] \"Done 2008\"\n",
            "[1] \" Done\"\n",
            "[1] \"2009\"\n",
            "[1] \"2009\"\n",
            "[1] \"To extract by mask\"\n",
            "discovered package(s): \n",
            "automatically exporting the following variables from the local environment:\n",
            "  fle \n",
            "explicitly exporting package(s): \n",
            "numValues: 3, numResults: 1, stopped: FALSE\n",
            "returning status FALSE\n",
            "numValues: 4, numResults: 2, stopped: FALSE\n",
            "returning status FALSE\n",
            "numValues: 5, numResults: 3, stopped: FALSE\n",
            "returning status FALSE\n",
            "numValues: 6, numResults: 4, stopped: FALSE\n",
            "returning status FALSE\n",
            "numValues: 7, numResults: 5, stopped: FALSE\n",
            "returning status FALSE\n",
            "numValues: 8, numResults: 6, stopped: FALSE\n",
            "returning status FALSE\n",
            "numValues: 9, numResults: 7, stopped: FALSE\n",
            "returning status FALSE\n",
            "numValues: 10, numResults: 8, stopped: FALSE\n",
            "returning status FALSE\n",
            "numValues: 11, numResults: 9, stopped: FALSE\n",
            "returning status FALSE\n",
            "numValues: 12, numResults: 10, stopped: FALSE\n",
            "returning status FALSE\n",
            "numValues: 12, numResults: 10, stopped: TRUE\n",
            "numValues: 12, numResults: 11, stopped: TRUE\n",
            "returning status FALSE\n",
            "numValues: 12, numResults: 12, stopped: TRUE\n",
            "calling combine function\n",
            "evaluating call object to combine results:\n",
            "  fun(accum, result.1, result.2, result.3, result.4, result.5, \n",
            "    result.6, result.7, result.8, result.9, result.10, result.11, \n",
            "    result.12)\n",
            "returning status TRUE\n",
            "[1] \"Done 2009\"\n",
            "[1] \" Done\"\n",
            "[1] \"2010\"\n",
            "[1] \"2010\"\n",
            "[1] \"To extract by mask\"\n",
            "discovered package(s): \n",
            "automatically exporting the following variables from the local environment:\n",
            "  fle \n",
            "explicitly exporting package(s): \n",
            "numValues: 3, numResults: 1, stopped: FALSE\n",
            "returning status FALSE\n",
            "numValues: 4, numResults: 2, stopped: FALSE\n",
            "returning status FALSE\n",
            "numValues: 5, numResults: 3, stopped: FALSE\n",
            "returning status FALSE\n",
            "numValues: 6, numResults: 4, stopped: FALSE\n",
            "returning status FALSE\n",
            "numValues: 7, numResults: 5, stopped: FALSE\n",
            "returning status FALSE\n",
            "numValues: 8, numResults: 6, stopped: FALSE\n",
            "returning status FALSE\n",
            "numValues: 9, numResults: 7, stopped: FALSE\n",
            "returning status FALSE\n",
            "numValues: 10, numResults: 8, stopped: FALSE\n",
            "returning status FALSE\n",
            "numValues: 11, numResults: 9, stopped: FALSE\n",
            "returning status FALSE\n",
            "numValues: 12, numResults: 10, stopped: FALSE\n",
            "returning status FALSE\n",
            "numValues: 12, numResults: 10, stopped: TRUE\n",
            "numValues: 12, numResults: 11, stopped: TRUE\n",
            "returning status FALSE\n",
            "numValues: 12, numResults: 12, stopped: TRUE\n",
            "calling combine function\n",
            "evaluating call object to combine results:\n",
            "  fun(accum, result.1, result.2, result.3, result.4, result.5, \n",
            "    result.6, result.7, result.8, result.9, result.10, result.11, \n",
            "    result.12)\n",
            "returning status TRUE\n",
            "[1] \"Done 2010\"\n",
            "[1] \" Done\"\n",
            "[1] \"2011\"\n",
            "[1] \"2011\"\n",
            "[1] \"To extract by mask\"\n",
            "discovered package(s): \n",
            "automatically exporting the following variables from the local environment:\n",
            "  fle \n",
            "explicitly exporting package(s): \n",
            "numValues: 3, numResults: 1, stopped: FALSE\n",
            "returning status FALSE\n",
            "numValues: 4, numResults: 2, stopped: FALSE\n",
            "returning status FALSE\n",
            "numValues: 5, numResults: 3, stopped: FALSE\n",
            "returning status FALSE\n",
            "numValues: 6, numResults: 4, stopped: FALSE\n",
            "returning status FALSE\n",
            "numValues: 7, numResults: 5, stopped: FALSE\n",
            "returning status FALSE\n",
            "numValues: 8, numResults: 6, stopped: FALSE\n",
            "returning status FALSE\n",
            "numValues: 9, numResults: 7, stopped: FALSE\n",
            "returning status FALSE\n",
            "numValues: 10, numResults: 8, stopped: FALSE\n",
            "returning status FALSE\n",
            "numValues: 11, numResults: 9, stopped: FALSE\n",
            "returning status FALSE\n",
            "numValues: 12, numResults: 10, stopped: FALSE\n",
            "returning status FALSE\n",
            "numValues: 12, numResults: 10, stopped: TRUE\n",
            "numValues: 12, numResults: 11, stopped: TRUE\n",
            "returning status FALSE\n",
            "numValues: 12, numResults: 12, stopped: TRUE\n",
            "calling combine function\n",
            "evaluating call object to combine results:\n",
            "  fun(accum, result.1, result.2, result.3, result.4, result.5, \n",
            "    result.6, result.7, result.8, result.9, result.10, result.11, \n",
            "    result.12)\n",
            "returning status TRUE\n",
            "[1] \"Done 2011\"\n",
            "[1] \" Done\"\n",
            "[1] \"2012\"\n",
            "[1] \"2012\"\n",
            "[1] \"To extract by mask\"\n",
            "discovered package(s): \n",
            "automatically exporting the following variables from the local environment:\n",
            "  fle \n",
            "explicitly exporting package(s): \n",
            "numValues: 3, numResults: 1, stopped: FALSE\n",
            "returning status FALSE\n",
            "numValues: 4, numResults: 2, stopped: FALSE\n",
            "returning status FALSE\n",
            "numValues: 5, numResults: 3, stopped: FALSE\n",
            "returning status FALSE\n",
            "numValues: 6, numResults: 4, stopped: FALSE\n",
            "returning status FALSE\n",
            "numValues: 7, numResults: 5, stopped: FALSE\n",
            "returning status FALSE\n",
            "numValues: 8, numResults: 6, stopped: FALSE\n",
            "returning status FALSE\n",
            "numValues: 9, numResults: 7, stopped: FALSE\n",
            "returning status FALSE\n",
            "numValues: 10, numResults: 8, stopped: FALSE\n",
            "returning status FALSE\n",
            "numValues: 11, numResults: 9, stopped: FALSE\n",
            "returning status FALSE\n",
            "numValues: 12, numResults: 10, stopped: FALSE\n",
            "returning status FALSE\n",
            "numValues: 12, numResults: 10, stopped: TRUE\n",
            "numValues: 12, numResults: 11, stopped: TRUE\n",
            "returning status FALSE\n",
            "numValues: 12, numResults: 12, stopped: TRUE\n",
            "calling combine function\n",
            "evaluating call object to combine results:\n",
            "  fun(accum, result.1, result.2, result.3, result.4, result.5, \n",
            "    result.6, result.7, result.8, result.9, result.10, result.11, \n",
            "    result.12)\n",
            "returning status TRUE\n",
            "[1] \"Done 2012\"\n",
            "[1] \" Done\"\n",
            "[1] \"2013\"\n",
            "[1] \"2013\"\n",
            "[1] \"To extract by mask\"\n",
            "discovered package(s): \n",
            "automatically exporting the following variables from the local environment:\n",
            "  fle \n",
            "explicitly exporting package(s): \n",
            "numValues: 3, numResults: 1, stopped: FALSE\n",
            "returning status FALSE\n",
            "numValues: 4, numResults: 2, stopped: FALSE\n",
            "returning status FALSE\n",
            "numValues: 5, numResults: 3, stopped: FALSE\n",
            "returning status FALSE\n",
            "numValues: 6, numResults: 4, stopped: FALSE\n",
            "returning status FALSE\n",
            "numValues: 7, numResults: 5, stopped: FALSE\n",
            "returning status FALSE\n",
            "numValues: 8, numResults: 6, stopped: FALSE\n",
            "returning status FALSE\n",
            "numValues: 9, numResults: 7, stopped: FALSE\n",
            "returning status FALSE\n",
            "numValues: 10, numResults: 8, stopped: FALSE\n",
            "returning status FALSE\n",
            "numValues: 11, numResults: 9, stopped: FALSE\n",
            "returning status FALSE\n",
            "numValues: 12, numResults: 10, stopped: FALSE\n",
            "returning status FALSE\n",
            "numValues: 12, numResults: 10, stopped: TRUE\n",
            "numValues: 12, numResults: 11, stopped: TRUE\n",
            "returning status FALSE\n",
            "numValues: 12, numResults: 12, stopped: TRUE\n",
            "calling combine function\n",
            "evaluating call object to combine results:\n",
            "  fun(accum, result.1, result.2, result.3, result.4, result.5, \n",
            "    result.6, result.7, result.8, result.9, result.10, result.11, \n",
            "    result.12)\n",
            "returning status TRUE\n",
            "[1] \"Done 2013\"\n",
            "[1] \" Done\"\n",
            "[1] \"2014\"\n",
            "[1] \"2014\"\n",
            "[1] \"To extract by mask\"\n",
            "discovered package(s): \n",
            "automatically exporting the following variables from the local environment:\n",
            "  fle \n",
            "explicitly exporting package(s): \n",
            "numValues: 3, numResults: 1, stopped: FALSE\n",
            "returning status FALSE\n",
            "numValues: 4, numResults: 2, stopped: FALSE\n",
            "returning status FALSE\n",
            "numValues: 5, numResults: 3, stopped: FALSE\n",
            "returning status FALSE\n",
            "numValues: 6, numResults: 4, stopped: FALSE\n",
            "returning status FALSE\n",
            "numValues: 7, numResults: 5, stopped: FALSE\n",
            "returning status FALSE\n",
            "numValues: 8, numResults: 6, stopped: FALSE\n",
            "returning status FALSE\n",
            "numValues: 9, numResults: 7, stopped: FALSE\n",
            "returning status FALSE\n",
            "numValues: 10, numResults: 8, stopped: FALSE\n",
            "returning status FALSE\n",
            "numValues: 11, numResults: 9, stopped: FALSE\n",
            "returning status FALSE\n",
            "numValues: 12, numResults: 10, stopped: FALSE\n",
            "returning status FALSE\n",
            "numValues: 12, numResults: 10, stopped: TRUE\n",
            "numValues: 12, numResults: 11, stopped: TRUE\n",
            "returning status FALSE\n",
            "numValues: 12, numResults: 12, stopped: TRUE\n",
            "calling combine function\n",
            "evaluating call object to combine results:\n",
            "  fun(accum, result.1, result.2, result.3, result.4, result.5, \n",
            "    result.6, result.7, result.8, result.9, result.10, result.11, \n",
            "    result.12)\n",
            "returning status TRUE\n",
            "[1] \"Done 2014\"\n",
            "[1] \" Done\"\n",
            "[1] \"2015\"\n",
            "[1] \"2015\"\n",
            "[1] \"To extract by mask\"\n",
            "discovered package(s): \n",
            "automatically exporting the following variables from the local environment:\n",
            "  fle \n",
            "explicitly exporting package(s): \n",
            "numValues: 3, numResults: 1, stopped: FALSE\n",
            "returning status FALSE\n",
            "numValues: 4, numResults: 2, stopped: FALSE\n",
            "returning status FALSE\n",
            "numValues: 5, numResults: 3, stopped: FALSE\n",
            "returning status FALSE\n",
            "numValues: 6, numResults: 4, stopped: FALSE\n",
            "returning status FALSE\n",
            "numValues: 7, numResults: 5, stopped: FALSE\n",
            "returning status FALSE\n",
            "numValues: 8, numResults: 6, stopped: FALSE\n",
            "returning status FALSE\n",
            "numValues: 9, numResults: 7, stopped: FALSE\n",
            "returning status FALSE\n",
            "numValues: 10, numResults: 8, stopped: FALSE\n",
            "returning status FALSE\n",
            "numValues: 11, numResults: 9, stopped: FALSE\n",
            "returning status FALSE\n",
            "numValues: 12, numResults: 10, stopped: FALSE\n",
            "returning status FALSE\n",
            "numValues: 12, numResults: 10, stopped: TRUE\n",
            "numValues: 12, numResults: 11, stopped: TRUE\n",
            "returning status FALSE\n",
            "numValues: 12, numResults: 12, stopped: TRUE\n",
            "calling combine function\n",
            "evaluating call object to combine results:\n",
            "  fun(accum, result.1, result.2, result.3, result.4, result.5, \n",
            "    result.6, result.7, result.8, result.9, result.10, result.11, \n",
            "    result.12)\n",
            "returning status TRUE\n",
            "[1] \"Done 2015\"\n",
            "[1] \" Done\"\n",
            "[1] \"2016\"\n",
            "[1] \"2016\"\n",
            "[1] \"To extract by mask\"\n",
            "discovered package(s): \n",
            "automatically exporting the following variables from the local environment:\n",
            "  fle \n",
            "explicitly exporting package(s): \n",
            "numValues: 3, numResults: 1, stopped: FALSE\n",
            "returning status FALSE\n",
            "numValues: 4, numResults: 2, stopped: FALSE\n",
            "returning status FALSE\n",
            "numValues: 5, numResults: 3, stopped: FALSE\n",
            "returning status FALSE\n",
            "numValues: 6, numResults: 4, stopped: FALSE\n",
            "returning status FALSE\n",
            "numValues: 7, numResults: 5, stopped: FALSE\n",
            "returning status FALSE\n",
            "numValues: 8, numResults: 6, stopped: FALSE\n",
            "returning status FALSE\n",
            "numValues: 9, numResults: 7, stopped: FALSE\n",
            "returning status FALSE\n",
            "numValues: 10, numResults: 8, stopped: FALSE\n",
            "returning status FALSE\n",
            "numValues: 11, numResults: 9, stopped: FALSE\n",
            "returning status FALSE\n",
            "numValues: 12, numResults: 10, stopped: FALSE\n",
            "returning status FALSE\n",
            "numValues: 12, numResults: 10, stopped: TRUE\n",
            "numValues: 12, numResults: 11, stopped: TRUE\n",
            "returning status FALSE\n",
            "numValues: 12, numResults: 12, stopped: TRUE\n",
            "calling combine function\n",
            "evaluating call object to combine results:\n",
            "  fun(accum, result.1, result.2, result.3, result.4, result.5, \n",
            "    result.6, result.7, result.8, result.9, result.10, result.11, \n",
            "    result.12)\n",
            "returning status TRUE\n",
            "[1] \"Done 2016\"\n",
            "[1] \" Done\"\n",
            "[1] \"2017\"\n",
            "[1] \"2017\"\n",
            "[1] \"To extract by mask\"\n",
            "discovered package(s): \n",
            "automatically exporting the following variables from the local environment:\n",
            "  fle \n",
            "explicitly exporting package(s): \n",
            "numValues: 3, numResults: 1, stopped: FALSE\n",
            "returning status FALSE\n",
            "numValues: 4, numResults: 2, stopped: FALSE\n",
            "returning status FALSE\n",
            "numValues: 5, numResults: 3, stopped: FALSE\n",
            "returning status FALSE\n",
            "numValues: 6, numResults: 4, stopped: FALSE\n",
            "returning status FALSE\n",
            "numValues: 7, numResults: 5, stopped: FALSE\n",
            "returning status FALSE\n",
            "numValues: 8, numResults: 6, stopped: FALSE\n",
            "returning status FALSE\n",
            "numValues: 9, numResults: 7, stopped: FALSE\n",
            "returning status FALSE\n",
            "numValues: 10, numResults: 8, stopped: FALSE\n",
            "returning status FALSE\n",
            "numValues: 11, numResults: 9, stopped: FALSE\n",
            "returning status FALSE\n",
            "numValues: 12, numResults: 10, stopped: FALSE\n",
            "returning status FALSE\n",
            "numValues: 12, numResults: 10, stopped: TRUE\n",
            "numValues: 12, numResults: 11, stopped: TRUE\n",
            "returning status FALSE\n",
            "numValues: 12, numResults: 12, stopped: TRUE\n",
            "calling combine function\n",
            "evaluating call object to combine results:\n",
            "  fun(accum, result.1, result.2, result.3, result.4, result.5, \n",
            "    result.6, result.7, result.8, result.9, result.10, result.11, \n",
            "    result.12)\n",
            "returning status TRUE\n",
            "[1] \"Done 2017\"\n",
            "[1] \" Done\"\n",
            "[1] \"2018\"\n",
            "[1] \"2018\"\n",
            "[1] \"To extract by mask\"\n",
            "discovered package(s): \n",
            "automatically exporting the following variables from the local environment:\n",
            "  fle \n",
            "explicitly exporting package(s): \n",
            "numValues: 3, numResults: 1, stopped: FALSE\n",
            "returning status FALSE\n",
            "numValues: 4, numResults: 2, stopped: FALSE\n",
            "returning status FALSE\n",
            "numValues: 5, numResults: 3, stopped: FALSE\n",
            "returning status FALSE\n",
            "numValues: 6, numResults: 4, stopped: FALSE\n",
            "returning status FALSE\n",
            "numValues: 7, numResults: 5, stopped: FALSE\n",
            "returning status FALSE\n",
            "numValues: 8, numResults: 6, stopped: FALSE\n",
            "returning status FALSE\n",
            "numValues: 9, numResults: 7, stopped: FALSE\n",
            "returning status FALSE\n",
            "numValues: 10, numResults: 8, stopped: FALSE\n",
            "returning status FALSE\n",
            "numValues: 11, numResults: 9, stopped: FALSE\n",
            "returning status FALSE\n",
            "numValues: 12, numResults: 10, stopped: FALSE\n",
            "returning status FALSE\n",
            "numValues: 12, numResults: 10, stopped: TRUE\n",
            "numValues: 12, numResults: 11, stopped: TRUE\n",
            "returning status FALSE\n",
            "numValues: 12, numResults: 12, stopped: TRUE\n",
            "calling combine function\n",
            "evaluating call object to combine results:\n",
            "  fun(accum, result.1, result.2, result.3, result.4, result.5, \n",
            "    result.6, result.7, result.8, result.9, result.10, result.11, \n",
            "    result.12)\n",
            "returning status TRUE\n",
            "[1] \"Done 2018\"\n",
            "[1] \" Done\"\n",
            "[1] \"2019\"\n",
            "[1] \"2019\"\n",
            "[1] \"To extract by mask\"\n",
            "discovered package(s): \n",
            "automatically exporting the following variables from the local environment:\n",
            "  fle \n",
            "explicitly exporting package(s): \n",
            "numValues: 3, numResults: 1, stopped: FALSE\n",
            "returning status FALSE\n",
            "numValues: 4, numResults: 2, stopped: FALSE\n",
            "returning status FALSE\n",
            "numValues: 5, numResults: 3, stopped: FALSE\n",
            "returning status FALSE\n",
            "numValues: 6, numResults: 4, stopped: FALSE\n",
            "returning status FALSE\n",
            "numValues: 7, numResults: 5, stopped: FALSE\n",
            "returning status FALSE\n",
            "numValues: 8, numResults: 6, stopped: FALSE\n",
            "returning status FALSE\n",
            "numValues: 9, numResults: 7, stopped: FALSE\n",
            "returning status FALSE\n",
            "numValues: 10, numResults: 8, stopped: FALSE\n",
            "returning status FALSE\n",
            "numValues: 11, numResults: 9, stopped: FALSE\n",
            "returning status FALSE\n",
            "numValues: 12, numResults: 10, stopped: FALSE\n",
            "returning status FALSE\n",
            "numValues: 12, numResults: 10, stopped: TRUE\n",
            "numValues: 12, numResults: 11, stopped: TRUE\n",
            "returning status FALSE\n",
            "numValues: 12, numResults: 12, stopped: TRUE\n",
            "calling combine function\n",
            "evaluating call object to combine results:\n",
            "  fun(accum, result.1, result.2, result.3, result.4, result.5, \n",
            "    result.6, result.7, result.8, result.9, result.10, result.11, \n",
            "    result.12)\n",
            "returning status TRUE\n",
            "[1] \"Done 2019\"\n",
            "[1] \" Done\"\n",
            "[1] \"2020\"\n",
            "[1] \"2020\"\n",
            "[1] \"To extract by mask\"\n",
            "discovered package(s): \n",
            "automatically exporting the following variables from the local environment:\n",
            "  fle \n",
            "explicitly exporting package(s): \n",
            "numValues: 3, numResults: 1, stopped: FALSE\n",
            "returning status FALSE\n",
            "numValues: 4, numResults: 2, stopped: FALSE\n",
            "returning status FALSE\n",
            "numValues: 5, numResults: 3, stopped: FALSE\n",
            "returning status FALSE\n",
            "numValues: 6, numResults: 4, stopped: FALSE\n",
            "returning status FALSE\n",
            "numValues: 7, numResults: 5, stopped: FALSE\n",
            "returning status FALSE\n",
            "numValues: 8, numResults: 6, stopped: FALSE\n",
            "returning status FALSE\n",
            "numValues: 9, numResults: 7, stopped: FALSE\n",
            "returning status FALSE\n",
            "numValues: 10, numResults: 8, stopped: FALSE\n",
            "returning status FALSE\n",
            "numValues: 11, numResults: 9, stopped: FALSE\n",
            "returning status FALSE\n",
            "numValues: 12, numResults: 10, stopped: FALSE\n",
            "returning status FALSE\n",
            "numValues: 12, numResults: 10, stopped: TRUE\n",
            "numValues: 12, numResults: 11, stopped: TRUE\n",
            "returning status FALSE\n",
            "numValues: 12, numResults: 12, stopped: TRUE\n",
            "calling combine function\n",
            "evaluating call object to combine results:\n",
            "  fun(accum, result.1, result.2, result.3, result.4, result.5, \n",
            "    result.6, result.7, result.8, result.9, result.10, result.11, \n",
            "    result.12)\n",
            "returning status TRUE\n",
            "[1] \"Done 2020\"\n",
            "[1] \" Done\"\n",
            "[1] \"2021\"\n",
            "[1] \"2021\"\n",
            "[1] \"To extract by mask\"\n",
            "discovered package(s): \n",
            "automatically exporting the following variables from the local environment:\n",
            "  fle \n",
            "explicitly exporting package(s): \n",
            "numValues: 3, numResults: 1, stopped: FALSE\n",
            "returning status FALSE\n",
            "numValues: 4, numResults: 2, stopped: FALSE\n",
            "returning status FALSE\n",
            "numValues: 5, numResults: 3, stopped: FALSE\n",
            "returning status FALSE\n",
            "numValues: 6, numResults: 4, stopped: FALSE\n",
            "returning status FALSE\n",
            "numValues: 7, numResults: 5, stopped: FALSE\n",
            "returning status FALSE\n",
            "numValues: 8, numResults: 6, stopped: FALSE\n",
            "returning status FALSE\n",
            "numValues: 9, numResults: 7, stopped: FALSE\n",
            "returning status FALSE\n",
            "numValues: 10, numResults: 8, stopped: FALSE\n",
            "returning status FALSE\n",
            "numValues: 11, numResults: 9, stopped: FALSE\n",
            "returning status FALSE\n",
            "numValues: 12, numResults: 10, stopped: FALSE\n",
            "returning status FALSE\n",
            "numValues: 12, numResults: 10, stopped: TRUE\n",
            "numValues: 12, numResults: 11, stopped: TRUE\n",
            "returning status FALSE\n",
            "numValues: 12, numResults: 12, stopped: TRUE\n",
            "calling combine function\n",
            "evaluating call object to combine results:\n",
            "  fun(accum, result.1, result.2, result.3, result.4, result.5, \n",
            "    result.6, result.7, result.8, result.9, result.10, result.11, \n",
            "    result.12)\n",
            "returning status TRUE\n",
            "[1] \"Done 2021\"\n",
            "[1] \" Done\"\n",
            "[1] \"2022\"\n",
            "[1] \"2022\"\n",
            "[1] \"To extract by mask\"\n",
            "discovered package(s): \n",
            "automatically exporting the following variables from the local environment:\n",
            "  fle \n",
            "explicitly exporting package(s): \n",
            "numValues: 3, numResults: 1, stopped: FALSE\n",
            "returning status FALSE\n",
            "numValues: 4, numResults: 2, stopped: FALSE\n",
            "returning status FALSE\n",
            "numValues: 5, numResults: 3, stopped: FALSE\n",
            "returning status FALSE\n",
            "numValues: 6, numResults: 4, stopped: FALSE\n",
            "returning status FALSE\n",
            "numValues: 7, numResults: 5, stopped: FALSE\n",
            "returning status FALSE\n",
            "numValues: 8, numResults: 6, stopped: FALSE\n",
            "returning status FALSE\n",
            "numValues: 9, numResults: 7, stopped: FALSE\n",
            "returning status FALSE\n",
            "numValues: 10, numResults: 8, stopped: FALSE\n",
            "returning status FALSE\n",
            "numValues: 11, numResults: 9, stopped: FALSE\n",
            "returning status FALSE\n",
            "numValues: 12, numResults: 10, stopped: FALSE\n",
            "returning status FALSE\n",
            "numValues: 12, numResults: 10, stopped: TRUE\n",
            "numValues: 12, numResults: 11, stopped: TRUE\n",
            "returning status FALSE\n",
            "numValues: 12, numResults: 12, stopped: TRUE\n",
            "calling combine function\n",
            "evaluating call object to combine results:\n",
            "  fun(accum, result.1, result.2, result.3, result.4, result.5, \n",
            "    result.6, result.7, result.8, result.9, result.10, result.11, \n",
            "    result.12)\n",
            "returning status TRUE\n",
            "[1] \"Done 2022\"\n",
            "[1] \" Done\"\n"
          ]
        }
      ]
    },
    {
      "cell_type": "markdown",
      "source": [
        "## Cargar Chirps"
      ],
      "metadata": {
        "id": "pI2tNwuyvRBN"
      }
    },
    {
      "cell_type": "markdown",
      "source": [
        "### Librerías"
      ],
      "metadata": {
        "id": "fgre7WHeM7E6"
      }
    },
    {
      "cell_type": "code",
      "source": [
        "%%R\n",
        "if(\"terra\" %in% row.names(installed.packages())==FALSE){suppressMessages(install.packages(\"terra\"))}\n",
        "if(\"sf\" %in% row.names(installed.packages())==FALSE){suppressMessages(install.packages(\"sf\"))}"
      ],
      "metadata": {
        "id": "L0zofR6XM7E7"
      },
      "execution_count": 7,
      "outputs": []
    },
    {
      "cell_type": "code",
      "source": [
        "%%R\n",
        "library(dplyr)\n",
        "library(lubridate)\n",
        "library(sf)\n",
        "library(stringr)\n",
        "library(terra)"
      ],
      "metadata": {
        "id": "4dbDXMTyM7E7",
        "colab": {
          "base_uri": "https://localhost:8080/"
        },
        "outputId": "143acb94-cd40-4c7c-fdc5-05534cb01b0f"
      },
      "execution_count": 8,
      "outputs": [
        {
          "output_type": "stream",
          "name": "stderr",
          "text": [
            "WARNING:rpy2.rinterface_lib.callbacks:R[write to console]: \n",
            "Attaching package: ‘dplyr’\n",
            "\n",
            "\n",
            "WARNING:rpy2.rinterface_lib.callbacks:R[write to console]: The following objects are masked from ‘package:stats’:\n",
            "\n",
            "    filter, lag\n",
            "\n",
            "\n",
            "WARNING:rpy2.rinterface_lib.callbacks:R[write to console]: The following objects are masked from ‘package:base’:\n",
            "\n",
            "    intersect, setdiff, setequal, union\n",
            "\n",
            "\n",
            "WARNING:rpy2.rinterface_lib.callbacks:R[write to console]: \n",
            "Attaching package: ‘lubridate’\n",
            "\n",
            "\n",
            "WARNING:rpy2.rinterface_lib.callbacks:R[write to console]: The following objects are masked from ‘package:base’:\n",
            "\n",
            "    date, intersect, setdiff, union\n",
            "\n",
            "\n",
            "WARNING:rpy2.rinterface_lib.callbacks:R[write to console]: Linking to GEOS 3.9.1, GDAL 3.3.2, PROJ 7.2.1; sf_use_s2() is TRUE\n",
            "\n",
            "WARNING:rpy2.rinterface_lib.callbacks:R[write to console]: terra 1.7.18\n",
            "\n"
          ]
        }
      ]
    },
    {
      "cell_type": "markdown",
      "source": [
        "### Raster Data"
      ],
      "metadata": {
        "id": "E4yhVZ7DOV1L"
      }
    },
    {
      "cell_type": "code",
      "source": [
        "%%R\n",
        "col_sr = rast('/content/drive/MyDrive/Time_Series_climatic_variebles/chirps/colombia/chirps-v2.0.2022.12.tif')"
      ],
      "metadata": {
        "id": "9xWG3cKAuRyQ"
      },
      "execution_count": 9,
      "outputs": []
    },
    {
      "cell_type": "code",
      "source": [
        "%%R\n",
        "col_sr"
      ],
      "metadata": {
        "colab": {
          "base_uri": "https://localhost:8080/"
        },
        "id": "qCfYmc97ueYw",
        "outputId": "92c4a4c8-fe0e-4b49-d646-77b009f6d033"
      },
      "execution_count": 10,
      "outputs": [
        {
          "output_type": "stream",
          "name": "stdout",
          "text": [
            "class       : SpatRaster \n",
            "dimensions  : 353, 298, 1  (nrow, ncol, nlyr)\n",
            "resolution  : 0.05, 0.05  (x, y)\n",
            "extent      : -81.75, -66.85, -4.250001, 13.4  (xmin, xmax, ymin, ymax)\n",
            "coord. ref. : lon/lat WGS 84 (EPSG:4326) \n",
            "source      : chirps-v2.0.2022.12.tif \n",
            "name        : chirps-v2.0.2022.12 \n",
            "min value   :          -9999.0000 \n",
            "max value   :            695.9061 \n"
          ]
        }
      ]
    },
    {
      "cell_type": "code",
      "source": [
        "%%R\n",
        "terra::crs(col_sr)"
      ],
      "metadata": {
        "colab": {
          "base_uri": "https://localhost:8080/"
        },
        "id": "OqJA9rbT35FX",
        "outputId": "f9db5496-1181-47ed-9862-f7e43971581d"
      },
      "execution_count": 11,
      "outputs": [
        {
          "output_type": "stream",
          "name": "stdout",
          "text": [
            "[1] \"GEOGCRS[\\\"WGS 84\\\",\\n    DATUM[\\\"World Geodetic System 1984\\\",\\n        ELLIPSOID[\\\"WGS 84\\\",6378137,298.257223563,\\n            LENGTHUNIT[\\\"metre\\\",1]]],\\n    PRIMEM[\\\"Greenwich\\\",0,\\n        ANGLEUNIT[\\\"degree\\\",0.0174532925199433]],\\n    CS[ellipsoidal,2],\\n        AXIS[\\\"geodetic latitude (Lat)\\\",north,\\n            ORDER[1],\\n            ANGLEUNIT[\\\"degree\\\",0.0174532925199433]],\\n        AXIS[\\\"geodetic longitude (Lon)\\\",east,\\n            ORDER[2],\\n            ANGLEUNIT[\\\"degree\\\",0.0174532925199433]],\\n    ID[\\\"EPSG\\\",4326]]\"\n"
          ]
        }
      ]
    },
    {
      "cell_type": "code",
      "source": [
        "%%R\n",
        "#--- take a look ---#\n",
        "length(terra::values(col_sr)[!is.na(terra::values(col_sr))])"
      ],
      "metadata": {
        "colab": {
          "base_uri": "https://localhost:8080/"
        },
        "id": "cyLpFXtY4g0P",
        "outputId": "96570813-62fc-4552-ed81-43c98809323d"
      },
      "execution_count": 12,
      "outputs": [
        {
          "output_type": "stream",
          "name": "stdout",
          "text": [
            "[1] 37126\n"
          ]
        }
      ]
    },
    {
      "cell_type": "code",
      "source": [
        "%%R\n",
        "chirps <- list.files('/content/drive/MyDrive/Time_Series_climatic_variebles/chirps/colombia', full.names = TRUE, pattern = '.tif$') \n",
        "tail(chirps)"
      ],
      "metadata": {
        "colab": {
          "base_uri": "https://localhost:8080/"
        },
        "id": "ChkDOBnyQXYc",
        "outputId": "6d3a09c2-528c-4ac9-8ab8-504ff590231e"
      },
      "execution_count": 13,
      "outputs": [
        {
          "output_type": "stream",
          "name": "stdout",
          "text": [
            "[1] \"/content/drive/MyDrive/Time_Series_climatic_variebles/chirps/colombia/chirps-v2.0.2022.07.tif\"\n",
            "[2] \"/content/drive/MyDrive/Time_Series_climatic_variebles/chirps/colombia/chirps-v2.0.2022.08.tif\"\n",
            "[3] \"/content/drive/MyDrive/Time_Series_climatic_variebles/chirps/colombia/chirps-v2.0.2022.09.tif\"\n",
            "[4] \"/content/drive/MyDrive/Time_Series_climatic_variebles/chirps/colombia/chirps-v2.0.2022.10.tif\"\n",
            "[5] \"/content/drive/MyDrive/Time_Series_climatic_variebles/chirps/colombia/chirps-v2.0.2022.11.tif\"\n",
            "[6] \"/content/drive/MyDrive/Time_Series_climatic_variebles/chirps/colombia/chirps-v2.0.2022.12.tif\"\n"
          ]
        }
      ]
    },
    {
      "cell_type": "code",
      "source": [
        "%%R\n",
        "chirps <- terra::rast(chirps)\n",
        "chirps"
      ],
      "metadata": {
        "colab": {
          "base_uri": "https://localhost:8080/"
        },
        "id": "5uF0_7M6QxcD",
        "outputId": "b78daf7c-e44d-4154-dfe3-29111fcab71d"
      },
      "execution_count": 14,
      "outputs": [
        {
          "output_type": "stream",
          "name": "stdout",
          "text": [
            "class       : SpatRaster \n",
            "dimensions  : 353, 298, 504  (nrow, ncol, nlyr)\n",
            "resolution  : 0.05, 0.05  (x, y)\n",
            "extent      : -81.75, -66.85, -4.250001, 13.4  (xmin, xmax, ymin, ymax)\n",
            "coord. ref. : lon/lat WGS 84 (EPSG:4326) \n",
            "sources     : chirps-v2.0.1981.01.tif  \n",
            "              chirps-v2.0.1981.02.tif  \n",
            "              chirps-v2.0.1981.03.tif  \n",
            "              ... and 501 more source(s)\n",
            "names       : chirp~81.01, chirp~81.02, chirp~81.03, chirp~81.04, chirp~81.05, chirp~81.06, ... \n",
            "min values  :  -9999.0000,  -9999.0000,  -9999.0000,  -9999.0000,   -9999.000,  -9999.0000, ... \n",
            "max values  :    677.3947,    795.7532,    752.9749,    944.5653,    1483.174,    934.6393, ... \n"
          ]
        }
      ]
    },
    {
      "cell_type": "code",
      "source": [
        "%%R\n",
        "terra::crs(chirps)"
      ],
      "metadata": {
        "colab": {
          "base_uri": "https://localhost:8080/"
        },
        "id": "o3o6GVS9nCH5",
        "outputId": "6f0a4f81-b59b-4e7f-d5f0-34a1eacae59c"
      },
      "execution_count": 122,
      "outputs": [
        {
          "output_type": "stream",
          "name": "stdout",
          "text": [
            "[1] \"GEOGCRS[\\\"WGS 84\\\",\\n    DATUM[\\\"World Geodetic System 1984\\\",\\n        ELLIPSOID[\\\"WGS 84\\\",6378137,298.257223563,\\n            LENGTHUNIT[\\\"metre\\\",1]]],\\n    PRIMEM[\\\"Greenwich\\\",0,\\n        ANGLEUNIT[\\\"degree\\\",0.0174532925199433]],\\n    CS[ellipsoidal,2],\\n        AXIS[\\\"geodetic latitude (Lat)\\\",north,\\n            ORDER[1],\\n            ANGLEUNIT[\\\"degree\\\",0.0174532925199433]],\\n        AXIS[\\\"geodetic longitude (Lon)\\\",east,\\n            ORDER[2],\\n            ANGLEUNIT[\\\"degree\\\",0.0174532925199433]],\\n    ID[\\\"EPSG\\\",4326]]\"\n"
          ]
        }
      ]
    },
    {
      "cell_type": "markdown",
      "source": [
        "### Convert to data frame"
      ],
      "metadata": {
        "id": "ZgGTj93jOaVj"
      }
    },
    {
      "cell_type": "code",
      "source": [
        "%%R\n",
        "#--- converting to a data.frame ---#\n",
        "col_df <- as.data.frame(col_sr, xy = TRUE) # this works with Raster* objects as well\n",
        "col_df = filter(col_df, `chirps-v2.0.2022.12`>0)\n",
        "head(col_df)"
      ],
      "metadata": {
        "colab": {
          "base_uri": "https://localhost:8080/"
        },
        "id": "xGX8HQVo-spW",
        "outputId": "d40b1a2f-51ba-4372-80f5-e63c0cf4e230"
      },
      "execution_count": 15,
      "outputs": [
        {
          "output_type": "stream",
          "name": "stdout",
          "text": [
            "        x      y chirps-v2.0.2022.12\n",
            "1 -81.725 12.525            52.25101\n",
            "2 -71.725 12.425            83.90867\n",
            "3 -71.625 12.425            70.09544\n",
            "4 -71.575 12.425            55.40148\n",
            "5 -71.525 12.425            52.25964\n",
            "6 -71.725 12.375            63.54156\n"
          ]
        }
      ]
    },
    {
      "cell_type": "code",
      "source": [
        "%%R\n",
        "#--- converting to a data.frame ---#\n",
        "chirps_df <- as.data.frame(chirps, xy = TRUE) # this works with Raster* objects as well\n",
        "print(head(chirps_df[,1:5]))\n",
        "print(paste(rep('.',80), collapse = ''))\n",
        "print(tail(chirps_df[,c(1,2,504:506)]))"
      ],
      "metadata": {
        "colab": {
          "base_uri": "https://localhost:8080/"
        },
        "id": "szfQPBH8Ur-w",
        "outputId": "f5483806-54ad-4a13-e47c-b5e8679c06e2"
      },
      "execution_count": 16,
      "outputs": [
        {
          "output_type": "stream",
          "name": "stdout",
          "text": [
            "           x      y chirps-v2.0.1981.01 chirps-v2.0.1981.02 chirps-v2.0.1981.03\n",
            "5067 -81.725 12.525           52.069359            26.44028          15.8991852\n",
            "5863 -71.725 12.425           11.745375            37.81181           5.3487139\n",
            "5865 -71.625 12.425            5.190650            20.21614           0.5644872\n",
            "5866 -71.575 12.425            4.368718            14.71338           0.5129853\n",
            "5867 -71.525 12.425            5.244236            10.91335           0.3851539\n",
            "6161 -71.725 12.375            9.055499            42.63746           3.1894126\n",
            "[1] \"................................................................................\"\n",
            "             x         y chirps-v2.0.2022.10 chirps-v2.0.2022.11\n",
            "104238 -69.975 -4.075001            162.1009            331.2895\n",
            "104239 -69.925 -4.075001            165.7473            340.8881\n",
            "104535 -70.025 -4.125001            159.2537            328.9645\n",
            "104536 -69.975 -4.125001            168.0856            344.4142\n",
            "104537 -69.925 -4.125001            165.3499            353.3584\n",
            "104834 -69.975 -4.175001            170.2599            343.3548\n",
            "       chirps-v2.0.2022.12\n",
            "104238            290.4229\n",
            "104239            305.4037\n",
            "104535            299.4938\n",
            "104536            306.3362\n",
            "104537            311.0148\n",
            "104834            295.6271\n"
          ]
        }
      ]
    },
    {
      "cell_type": "code",
      "source": [
        "%%R\n",
        "chirps.point <- st_as_sf(x = chirps_df, \n",
        "                         coords = c(\"x\", \"y\"),\n",
        "                         crs = terra::crs(chirps))\n",
        "                         #crs = \"+proj=longlat +datum=WGS84 +ellps=WGS84 +towgs84=0,0,0\")"
      ],
      "metadata": {
        "id": "xjM_qyVlPIF7"
      },
      "execution_count": 126,
      "outputs": []
    },
    {
      "cell_type": "code",
      "source": [
        "%%R\n",
        "print(dim(chirps.point[1]))\n",
        "filter(chirps.point[1],`chirps-v2.0.1981.01`>0) %>% dim()\n",
        "print(head(filter(chirps.point[1],`chirps-v2.0.1981.01`>0)))"
      ],
      "metadata": {
        "colab": {
          "base_uri": "https://localhost:8080/"
        },
        "id": "Tlxq-1E1YM8y",
        "outputId": "f9e07847-b2a0-4639-a91b-bb6e41d83b76"
      },
      "execution_count": 72,
      "outputs": [
        {
          "output_type": "stream",
          "name": "stdout",
          "text": [
            "[1] 37126     2\n",
            "Simple feature collection with 6 features and 1 field\n",
            "Geometry type: POINT\n",
            "Dimension:     XY\n",
            "Bounding box:  xmin: -81.725 ymin: 12.375 xmax: -71.525 ymax: 12.525\n",
            "Geodetic CRS:  +proj=longlat +datum=WGS84 +ellps=WGS84 +towgs84=0,0,0\n",
            "  chirps-v2.0.1981.01               geometry\n",
            "1           52.069359 POINT (-81.725 12.525)\n",
            "2           11.745375 POINT (-71.725 12.425)\n",
            "3            5.190650 POINT (-71.625 12.425)\n",
            "4            4.368718 POINT (-71.575 12.425)\n",
            "5            5.244236 POINT (-71.525 12.425)\n",
            "6            9.055499 POINT (-71.725 12.375)\n"
          ]
        }
      ]
    },
    {
      "cell_type": "code",
      "source": [
        "%%R\n",
        "paste0(object.size(chirps_df)/1000000, \" MB\")"
      ],
      "metadata": {
        "colab": {
          "base_uri": "https://localhost:8080/"
        },
        "id": "TPO3jE-QYlE3",
        "outputId": "be7c0fab-288b-455b-b7f6-9761b52866a7"
      },
      "execution_count": 18,
      "outputs": [
        {
          "output_type": "stream",
          "name": "stdout",
          "text": [
            "[1] \"150.507968 MB\"\n"
          ]
        }
      ]
    },
    {
      "cell_type": "code",
      "source": [
        "%%R\n",
        "library(readxl)\n",
        "pcp_col = read_excel('/content/drive/MyDrive/Time_Series_climatic_variebles/pcp_col.xlsx')\n",
        "tmed_col = read_excel('/content/drive/MyDrive/Time_Series_climatic_variebles/tmed_col2.xlsx', sheet = 'Data')"
      ],
      "metadata": {
        "id": "4j-e5NzBe0hF"
      },
      "execution_count": 19,
      "outputs": []
    },
    {
      "cell_type": "code",
      "source": [
        "%%R\n",
        "sttns = dplyr::distinct(pcp_col, `X` , `Y`) %>% \n",
        "  dplyr::full_join(dplyr::distinct(tmed_col, `X` , `Y`), by=c(\"X\" , \"Y\")) \n",
        "\n",
        "dim(sttns)  "
      ],
      "metadata": {
        "colab": {
          "base_uri": "https://localhost:8080/"
        },
        "id": "MUJCSxyLgTJH",
        "outputId": "8ebdedf8-37d0-4d00-f9c2-611d6b15bf5f"
      },
      "execution_count": 131,
      "outputs": [
        {
          "output_type": "stream",
          "name": "stdout",
          "text": [
            "[1] 856   2\n"
          ]
        }
      ]
    },
    {
      "cell_type": "code",
      "source": [
        "%%R\n",
        "inner_join(sttns, chirps_df, by =c(\"X\"=\"x\", \"Y\"=\"y\")) %>% dim()"
      ],
      "metadata": {
        "colab": {
          "base_uri": "https://localhost:8080/"
        },
        "id": "AN3mUNRElLOy",
        "outputId": "69768fd9-0dad-4837-bf18-94ef40d113c6"
      },
      "execution_count": 115,
      "outputs": [
        {
          "output_type": "stream",
          "name": "stdout",
          "text": [
            "[1]   0 506\n"
          ]
        }
      ]
    },
    {
      "cell_type": "code",
      "source": [
        "%%R\n",
        "sttns.points <- st_as_sf(x = sttns, \n",
        "                         coords = c(\"X\", \"Y\"),\n",
        "                         crs = terra::crs(chirps)) \n",
        "\n",
        "print(head(sttns.points))"
      ],
      "metadata": {
        "colab": {
          "base_uri": "https://localhost:8080/"
        },
        "id": "1TrkHRArHfYy",
        "outputId": "ad106a5a-f2b6-4d55-e4e4-5d87f0f32221"
      },
      "execution_count": 125,
      "outputs": [
        {
          "output_type": "stream",
          "name": "stdout",
          "text": [
            "Simple feature collection with 6 features and 0 fields\n",
            "Geometry type: POINT\n",
            "Dimension:     XY\n",
            "Bounding box:  xmin: -81.70389 ymin: 10.44725 xmax: -72.91769 ymax: 13.35\n",
            "Geodetic CRS:  WGS 84\n",
            "# A tibble: 6 × 1\n",
            "              geometry\n",
            "           <POINT [°]>\n",
            "1 (-81.70389 12.58694)\n",
            "2       (-81.35 13.35)\n",
            "3 (-74.22889 11.12833)\n",
            "4 (-75.51603 10.44725)\n",
            "5 (-74.77978 10.88334)\n",
            "6 (-72.91769 11.52822)\n"
          ]
        }
      ]
    },
    {
      "cell_type": "code",
      "source": [
        "%%R\n",
        "print(head(chirps.point[1]))"
      ],
      "metadata": {
        "colab": {
          "base_uri": "https://localhost:8080/"
        },
        "id": "YWivyNpRaFpj",
        "outputId": "4300a71a-3df0-4055-f316-875a34ede6b9"
      },
      "execution_count": 130,
      "outputs": [
        {
          "output_type": "stream",
          "name": "stdout",
          "text": [
            "Simple feature collection with 6 features and 1 field\n",
            "Geometry type: POINT\n",
            "Dimension:     XY\n",
            "Bounding box:  xmin: -81.725 ymin: 12.375 xmax: -71.525 ymax: 12.525\n",
            "Geodetic CRS:  WGS 84\n",
            "     chirps-v2.0.1981.01               geometry\n",
            "5067           52.069359 POINT (-81.725 12.525)\n",
            "5863           11.745375 POINT (-71.725 12.425)\n",
            "5865            5.190650 POINT (-71.625 12.425)\n",
            "5866            4.368718 POINT (-71.575 12.425)\n",
            "5867            5.244236 POINT (-71.525 12.425)\n",
            "6161            9.055499 POINT (-71.725 12.375)\n"
          ]
        }
      ]
    },
    {
      "cell_type": "code",
      "source": [
        "%%R\n",
        "#--- spatial join ---#\n",
        "chirps_sttns <- st_join(sttns.points, chirps.point[1])\n",
        "print(dim(chirps_sttns))\n",
        "print(tail(sapply(chirps_sttns, function(x) sum(is.na(x)))))"
      ],
      "metadata": {
        "colab": {
          "base_uri": "https://localhost:8080/"
        },
        "id": "YPWxLnS6IfJ5",
        "outputId": "c22def3b-b9fb-4701-f463-c3637be6720e"
      },
      "execution_count": 132,
      "outputs": [
        {
          "output_type": "stream",
          "name": "stdout",
          "text": [
            "[1] 856   2\n",
            "           geometry chirps-v2.0.1981.01 \n",
            "                  0                 856 \n"
          ]
        }
      ]
    },
    {
      "cell_type": "markdown",
      "source": [
        "### plot"
      ],
      "metadata": {
        "id": "X9Ttx8r2OgHE"
      }
    },
    {
      "cell_type": "code",
      "source": [
        "%%R\n",
        "library(ggplot2)\n",
        "chirps_1981_01 = filter(chirps.point[1],`chirps-v2.0.1981.01`>0)\n",
        "ggplot() + \n",
        "  geom_sf(data = chirps_1981_01, aes(fill = `chirps-v2.0.1981.01`, col = `chirps-v2.0.1981.01`))+\n",
        "  geom_sf(data = sttns.points, fill = NA, col = 'grey70', lwd = 0.2)"
      ],
      "metadata": {
        "colab": {
          "base_uri": "https://localhost:8080/",
          "height": 497
        },
        "id": "KzxParTaa82E",
        "outputId": "afb0124d-f70f-4cb6-e59d-c5f6709c1be1"
      },
      "execution_count": 103,
      "outputs": [
        {
          "output_type": "display_data",
          "data": {
            "image/png": "[encoded data removed]"
          },
          "metadata": {}
        }
      ]
    },
    {
      "cell_type": "code",
      "source": [
        "%%R\n",
        "par(mfrow=c(2,1+))\n",
        "plot(sttns.points)\n",
        "plot(filter(chirps.point[1],`chirps-v2.0.1981.01`>0))"
      ],
      "metadata": {
        "colab": {
          "base_uri": "https://localhost:8080/",
          "height": 977
        },
        "id": "waihyx57SANQ",
        "outputId": "47906d41-b598-4e2f-d449-52f9bd2da22e"
      },
      "execution_count": 114,
      "outputs": [
        {
          "output_type": "display_data",
          "data": {
            "image/png": "[encoded data removed]"
          },
          "metadata": {}
        },
        {
          "output_type": "display_data",
          "data": {
            "image/png": "[encoded data removed]"
          },
          "metadata": {}
        }
      ]
    },
    {
      "cell_type": "code",
      "source": [
        "%%R\n",
        "# Convert data frame to sf object\n",
        "col.point <- st_as_sf(x = col_df, \n",
        "                        coords = c(\"x\", \"y\"),\n",
        "                        crs = \"+proj=longlat +datum=WGS84 +ellps=WGS84 +towgs84=0,0,0\")\n",
        "\n",
        "# simple plot\n",
        "plot(col.point)"
      ],
      "metadata": {
        "colab": {
          "base_uri": "https://localhost:8080/",
          "height": 497
        },
        "id": "sWrf2gto_E2k",
        "outputId": "70f109fa-0877-4f75-ea2e-3db7bd821780"
      },
      "execution_count": null,
      "outputs": [
        {
          "output_type": "display_data",
          "data": {
            "image/png": "[encoded data removed]"
          },
          "metadata": {}
        }
      ]
    },
    {
      "cell_type": "markdown",
      "source": [
        "# geodata::worldclim_country\n",
        "\n",
        "This is WorldClim 2.1 (January 2020) downloaded from http://worldclim.org\n",
        "They represent average monthly climate data for 1970-2000. "
      ],
      "metadata": {
        "id": "9UwiAKkSkHMC"
      }
    },
    {
      "cell_type": "code",
      "source": [
        "%%R\n",
        "if(\"geodata\" %in% row.names(installed.packages())==FALSE){suppressMessages(install.packages(\"geodata\"))}"
      ],
      "metadata": {
        "id": "Ycc27yfv7AYa"
      },
      "execution_count": null,
      "outputs": []
    },
    {
      "cell_type": "code",
      "source": [
        "%%R\n",
        "library(geodata)\n",
        "#?geodata::worldclim_country"
      ],
      "metadata": {
        "id": "cBQUhtQP7C7l"
      },
      "execution_count": null,
      "outputs": []
    },
    {
      "cell_type": "code",
      "source": [
        "%%R\n",
        "# Download climate\n",
        "prec <- geodata::worldclim_country(country = 'COL', var = 'prec', path = './tmpr')\n",
        "tavg <- geodata::worldclim_country(country = 'COL', var = 'tavg', path = './tmpr')\n",
        "\n",
        "prec <- raster::stack(prec)\n",
        "tavg <- raster::stack(tavg)"
      ],
      "metadata": {
        "id": "JiDhT-gW63VJ"
      },
      "execution_count": null,
      "outputs": []
    },
    {
      "cell_type": "code",
      "source": [
        "%%R\n",
        "prec"
      ],
      "metadata": {
        "colab": {
          "base_uri": "https://localhost:8080/"
        },
        "id": "m4Wh6zUa7YKi",
        "outputId": "9c63f46b-be2a-421a-bced-aa427388a8ec"
      },
      "execution_count": null,
      "outputs": [
        {
          "output_type": "stream",
          "name": "stdout",
          "text": [
            "class      : RasterStack \n",
            "dimensions : 2460, 1860, 4575600, 12  (nrow, ncol, ncell, nlayers)\n",
            "resolution : 0.008333333, 0.008333333  (x, y)\n",
            "extent     : -82, -66.5, -4.5, 16  (xmin, xmax, ymin, ymax)\n",
            "crs        : +proj=longlat +datum=WGS84 +no_defs \n",
            "names      : COL_wc2.1_30s_prec_1, COL_wc2.1_30s_prec_2, COL_wc2.1_30s_prec_3, COL_wc2.1_30s_prec_4, COL_wc2.1_30s_prec_5, COL_wc2.1_30s_prec_6, COL_wc2.1_30s_prec_7, COL_wc2.1_30s_prec_8, COL_wc2.1_30s_prec_9, COL_wc2.1_30s_prec_10, COL_wc2.1_30s_prec_11, COL_wc2.1_30s_prec_12 \n",
            "min values :                    0,                    0,                    1,                    0,                    0,                    0,                    0,                    0,                    0,                     0,                     0,                     0 \n",
            "max values :                  623,                  529,                  570,                  636,                  764,                  745,                  764,                  912,                  832,                   826,                   787,                   699 \n",
            "\n"
          ]
        }
      ]
    },
    {
      "cell_type": "code",
      "source": [
        "%%R\n",
        "plot(prec[[12]]) "
      ],
      "metadata": {
        "colab": {
          "base_uri": "https://localhost:8080/",
          "height": 497
        },
        "id": "KUVv1gLyNKTx",
        "outputId": "f87cd957-f4e7-44e7-a9d7-6cfb420f00f8"
      },
      "execution_count": null,
      "outputs": [
        {
          "output_type": "display_data",
          "data": {
            "image/png": "[encoded data removed]"
          },
          "metadata": {}
        }
      ]
    },
    {
      "cell_type": "code",
      "source": [
        "%%R\n",
        "par(mfrow=c(3,4))  \n",
        "for(i in 1:12){\n",
        "    plot(prec[[i]])    \n",
        "}"
      ],
      "metadata": {
        "colab": {
          "base_uri": "https://localhost:8080/",
          "height": 497
        },
        "id": "deMhJ8-2H93e",
        "outputId": "64fd6f56-004c-41ec-b134-970190b7cbc2"
      },
      "execution_count": null,
      "outputs": [
        {
          "output_type": "display_data",
          "data": {
            "image/png": "[encoded data removed]"
          },
          "metadata": {}
        }
      ]
    },
    {
      "cell_type": "markdown",
      "source": [
        "# R.package: chirps"
      ],
      "metadata": {
        "id": "W8JT-VkIOf_1"
      }
    },
    {
      "cell_type": "code",
      "source": [
        "%%R\n",
        "install.packages(\"chirps\")"
      ],
      "metadata": {
        "id": "PoRMWFEjuqUe"
      },
      "execution_count": null,
      "outputs": []
    },
    {
      "cell_type": "code",
      "source": [
        "%%R\n",
        "installed.packages()[row.names(installed.packages()) %in% \"chirps\",]"
      ],
      "metadata": {
        "colab": {
          "base_uri": "https://localhost:8080/"
        },
        "id": "3OhWIsKruCah",
        "outputId": "7e651e21-279e-49fe-d82c-c798f4918d2b"
      },
      "execution_count": null,
      "outputs": [
        {
          "output_type": "stream",
          "name": "stdout",
          "text": [
            "                                                                      Package \n",
            "                                                                     \"chirps\" \n",
            "                                                                      LibPath \n",
            "                                              \"/usr/local/lib/R/site-library\" \n",
            "                                                                      Version \n",
            "                                                                      \"0.1.4\" \n",
            "                                                                     Priority \n",
            "                                                                           NA \n",
            "                                                                      Depends \n",
            "                                                      \"R (>= 3.5.0), methods\" \n",
            "                                                                      Imports \n",
            "                               \"httr, jsonlite, sf, stats, terra (>= 1.2-10)\" \n",
            "                                                                    LinkingTo \n",
            "                                                                           NA \n",
            "                                                                     Suggests \n",
            "\"climatrends, knitr, markdown, rmarkdown, testthat (>= 2.1.0),\\nvcr (>= 0.5)\" \n",
            "                                                                     Enhances \n",
            "                                                                           NA \n",
            "                                                                      License \n",
            "                                                         \"MIT + file LICENSE\" \n",
            "                                                              License_is_FOSS \n",
            "                                                                           NA \n",
            "                                                        License_restricts_use \n",
            "                                                                           NA \n",
            "                                                                      OS_type \n",
            "                                                                           NA \n",
            "                                                                       MD5sum \n",
            "                                                                           NA \n",
            "                                                             NeedsCompilation \n",
            "                                                                         \"no\" \n",
            "                                                                        Built \n",
            "                                                                      \"4.2.2\" \n"
          ]
        }
      ]
    },
    {
      "cell_type": "code",
      "source": [
        "%%R\n",
        "library(\"chirps\")\n",
        "library(\"sf\")\n",
        "\n",
        "data(\"tapajos\", package = \"chirps\")\n",
        "\n",
        "# sample three points within the Tapajos area\n",
        "set.seed(1234)\n",
        "tp_point <- st_sample(tapajos, 3)\n",
        "\n",
        "# coerce as sf points\n",
        "tp_point <- st_as_sf(tp_point)"
      ],
      "metadata": {
        "colab": {
          "base_uri": "https://localhost:8080/"
        },
        "id": "i5-JcbEk1CoN",
        "outputId": "70478673-cbaa-4704-d89c-6c5003a8b78f"
      },
      "execution_count": null,
      "outputs": [
        {
          "output_type": "stream",
          "name": "stderr",
          "text": [
            "WARNING:rpy2.rinterface_lib.callbacks:R[write to console]: Linking to GEOS 3.9.1, GDAL 3.3.2, PROJ 7.2.1; sf_use_s2() is TRUE\n",
            "\n"
          ]
        }
      ]
    },
    {
      "cell_type": "code",
      "source": [
        "%%R\n",
        "tp_point"
      ],
      "metadata": {
        "colab": {
          "base_uri": "https://localhost:8080/"
        },
        "id": "VSXPNDZL1ORs",
        "outputId": "a0bf835b-2f53-464e-869c-131831e31a1a"
      },
      "execution_count": null,
      "outputs": [
        {
          "output_type": "stream",
          "name": "stdout",
          "text": [
            "Simple feature collection with 3 features and 0 fields\n",
            "Geometry type: POINT\n",
            "Dimension:     XY\n",
            "Bounding box:  xmin: -55.03719 ymin: -3.797467 xmax: -54.98543 ymax: -3.206582\n",
            "Geodetic CRS:  WGS 84\n",
            "                            x\n",
            "1 POINT (-55.03719 -3.797467)\n",
            "2 POINT (-55.02853 -3.206582)\n",
            "3  POINT (-54.98543 -3.37161)\n"
          ]
        }
      ]
    },
    {
      "cell_type": "code",
      "source": [
        "%%R\n",
        "dat <- get_chirps(tp_point,\n",
        "                  dates = c(\"1982-01-01\",\"2020-12-31\"), \n",
        "                  server = \"CHC\")"
      ],
      "metadata": {
        "colab": {
          "base_uri": "https://localhost:8080/"
        },
        "id": "nfM9NeaS1UlM",
        "outputId": "29e890d2-c9d3-4fd2-8509-4aae1ef68c39"
      },
      "execution_count": null,
      "outputs": [
        {
          "output_type": "stream",
          "name": "stderr",
          "text": [
            "WARNING:rpy2.rinterface_lib.callbacks:R[write to console]: Fetching data as GeoTIFF files from CHC server \n",
            "\n",
            "\n",
            "WARNING:rpy2.rinterface_lib.callbacks:R[write to console]: Getting CHIRPS in a .05 deg resolution \n",
            "\n",
            "\n"
          ]
        }
      ]
    },
    {
      "cell_type": "code",
      "source": [
        "%%R\n",
        "str(dat)"
      ],
      "metadata": {
        "colab": {
          "base_uri": "https://localhost:8080/"
        },
        "id": "llwEEgasGTdU",
        "outputId": "616cc5ea-5d46-4486-850d-ea1357c7236c"
      },
      "execution_count": null,
      "outputs": [
        {
          "output_type": "stream",
          "name": "stdout",
          "text": [
            "Classes ‘chirps’, ‘chirps_df’ and 'data.frame':\t42735 obs. of  5 variables:\n",
            " $ id    : int  1 1 1 1 1 1 1 1 1 1 ...\n",
            " $ lon   : num  -55 -55 -55 -55 -55 ...\n",
            " $ lat   : num  -3.8 -3.8 -3.8 -3.8 -3.8 ...\n",
            " $ date  : Date, format: \"1982-01-01\" \"1982-01-01\" ...\n",
            " $ chirps: num  0 0 0 46.5 26.8 ...\n"
          ]
        }
      ]
    },
    {
      "cell_type": "code",
      "source": [
        "%%R\n",
        "3*length(seq(as.Date(paste0(1982, \"-01-01\")), as.Date(paste0(2020, \"-12-31\")), by=\"days\"))"
      ],
      "metadata": {
        "colab": {
          "base_uri": "https://localhost:8080/"
        },
        "id": "av2PaeKIGYlW",
        "outputId": "a12d83aa-6fb1-4511-b594-78d63cd413d2"
      },
      "execution_count": null,
      "outputs": [
        {
          "output_type": "stream",
          "name": "stdout",
          "text": [
            "[1] 42735\n"
          ]
        }
      ]
    }
  ]
}